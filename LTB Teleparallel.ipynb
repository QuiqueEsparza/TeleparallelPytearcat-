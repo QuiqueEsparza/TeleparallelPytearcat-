{
 "cells": [
  {
   "cell_type": "code",
   "execution_count": 1,
   "id": "6b875463",
   "metadata": {},
   "outputs": [],
   "source": [
    "import pytearcat as pt\n",
    "import sympy as sp\n",
    "import numpy as np\n",
    "from sympy import *\n",
    "init_printing(use_unicode=True)"
   ]
  },
  {
   "cell_type": "code",
   "execution_count": 2,
   "id": "3b62fa64",
   "metadata": {},
   "outputs": [
    {
     "name": "stdout",
     "output_type": "stream",
     "text": [
      "Remember that the time coordinate must be the first coordinate.\n"
     ]
    }
   ],
   "source": [
    "t,r,theta,phi=pt.coords('t,r,theta,phi')"
   ]
  },
  {
   "cell_type": "code",
   "execution_count": 3,
   "id": "ff0d288c",
   "metadata": {},
   "outputs": [],
   "source": [
    "a=pt.fun('a','t')\n",
    "K=pt.con('K')\n",
    "k=pt.con('kappa')\n",
    "Y=pt.fun('Y','t,r')\n",
    "KD = pt.kdelta()"
   ]
  },
  {
   "cell_type": "code",
   "execution_count": 4,
   "id": "b2c69509",
   "metadata": {},
   "outputs": [],
   "source": [
    "KD = pt.kdelta()"
   ]
  },
  {
   "cell_type": "code",
   "execution_count": 5,
   "id": "135fc2f0",
   "metadata": {},
   "outputs": [],
   "source": [
    "#ds='ds2=(-C1**2+C3**2)*dt**2+2*(-C1*C2+C3*C4)*dt*dr+(-C2**2+C4**2)*dr**2+(C5**2+C6**2)*dtheta**2+sin(theta)**2*(C5**2+C6**2)*dphi**2'"
   ]
  },
  {
   "cell_type": "code",
   "execution_count": 6,
   "id": "80f473ce",
   "metadata": {},
   "outputs": [],
   "source": [
    "ds='ds2=-dt**2+Derivative(Y,r)**2/(1-kappa)*dr**2+Y**2*dtheta**2+Y**2*sin(theta)**2*dphi**2'"
   ]
  },
  {
   "cell_type": "code",
   "execution_count": 7,
   "id": "7416a76d",
   "metadata": {},
   "outputs": [
    {
     "name": "stdout",
     "output_type": "stream",
     "text": [
      "\n",
      "Dimension = 4\n",
      "Coordinates = t,r,theta,phi\n",
      "Metric defined successfully: \n",
      "\n"
     ]
    },
    {
     "data": {
      "text/latex": [
       "$\\displaystyle ds^2 = -1 \\cdot dt^2+\\frac{\\left(\\frac{\\partial}{\\partial r} Y{\\left(t,r \\right)}\\right)^{2}}{1 - \\kappa} \\cdot dr^2+Y^{2}{\\left(t,r \\right)} \\cdot d\\theta^2+Y^{2}{\\left(t,r \\right)} \\sin^{2}{\\left(\\theta \\right)} \\cdot d\\phi^2$"
      ],
      "text/plain": [
       "<IPython.core.display.Math object>"
      ]
     },
     "metadata": {},
     "output_type": "display_data"
    },
    {
     "data": {
      "text/latex": [
       "$\\displaystyle \\left[\\begin{matrix}-1 & 0 & 0 & 0\\\\0 & \\frac{\\left(\\frac{\\partial}{\\partial r} Y{\\left(t,r \\right)}\\right)^{2}}{1 - \\kappa} & 0 & 0\\\\0 & 0 & Y^{2}{\\left(t,r \\right)} & 0\\\\0 & 0 & 0 & Y^{2}{\\left(t,r \\right)} \\sin^{2}{\\left(\\theta \\right)}\\end{matrix}\\right]$"
      ],
      "text/plain": [
       "⎡-1        0            0             0        ⎤\n",
       "⎢                                              ⎥\n",
       "⎢                 2                            ⎥\n",
       "⎢    ⎛∂          ⎞                             ⎥\n",
       "⎢    ⎜──(Y(t, r))⎟                             ⎥\n",
       "⎢    ⎝∂r         ⎠                             ⎥\n",
       "⎢0   ──────────────     0             0        ⎥\n",
       "⎢        1 - κ                                 ⎥\n",
       "⎢                                              ⎥\n",
       "⎢                     2                        ⎥\n",
       "⎢0         0         Y (t, r)         0        ⎥\n",
       "⎢                                              ⎥\n",
       "⎢                               2          2   ⎥\n",
       "⎣0         0            0      Y (t, r)⋅sin (θ)⎦"
      ]
     },
     "metadata": {},
     "output_type": "display_data"
    }
   ],
   "source": [
    "g=pt.metric(ds)"
   ]
  },
  {
   "cell_type": "code",
   "execution_count": 8,
   "id": "55d13d9c",
   "metadata": {},
   "outputs": [],
   "source": [
    "#Condición de Métrica Diagonal\n",
    "#C2 = 0\n",
    "#C3 = 0\n",
    "#C6 = 0"
   ]
  },
  {
   "cell_type": "code",
   "execution_count": 9,
   "id": "d1fd11d9",
   "metadata": {},
   "outputs": [],
   "source": [
    "#g.tensor[0][2][2]"
   ]
  },
  {
   "cell_type": "code",
   "execution_count": 10,
   "id": "be258d9b",
   "metadata": {},
   "outputs": [],
   "source": [
    "#C1 = sp.simplify(sp.sqrt(-1*g.tensor[0][0][0]))\n",
    "#C4 = sp.simplify(sp.sqrt(g.tensor[0][1][1]))\n",
    "#C5 = sp.simplify(sp.sqrt(g.tensor[0][2][2]))\n",
    "#print(C1)\n",
    "#print(C4)\n",
    "#print(C5)"
   ]
  },
  {
   "cell_type": "code",
   "execution_count": 11,
   "id": "09287266",
   "metadata": {},
   "outputs": [],
   "source": [
    "C1 = 1\n",
    "C2 = 0\n",
    "C3 = 0\n",
    "C4 = Derivative(Y,r)/sp.sqrt(1-k)\n",
    "C5 = Y\n",
    "C6 = 0"
   ]
  },
  {
   "cell_type": "code",
   "execution_count": 12,
   "id": "cfeb0bb7",
   "metadata": {},
   "outputs": [
    {
     "name": "stdout",
     "output_type": "stream",
     "text": [
      "Elements assigned correctly to the ^A,_mu components\n"
     ]
    },
    {
     "data": {
      "text/latex": [
       "$\\displaystyle \\left[\\begin{matrix}1 & 0 & 0 & 0\\\\0 & \\frac{\\sin{\\left(\\theta \\right)} \\cos{\\left(\\phi \\right)} \\frac{\\partial}{\\partial r} Y{\\left(t,r \\right)}}{\\sqrt{1 - \\kappa}} & Y{\\left(t,r \\right)} \\cos{\\left(\\phi \\right)} \\cos{\\left(\\theta \\right)} & - Y{\\left(t,r \\right)} \\sin{\\left(\\phi \\right)} \\sin{\\left(\\theta \\right)}\\\\0 & \\frac{\\sin{\\left(\\phi \\right)} \\sin{\\left(\\theta \\right)} \\frac{\\partial}{\\partial r} Y{\\left(t,r \\right)}}{\\sqrt{1 - \\kappa}} & Y{\\left(t,r \\right)} \\sin{\\left(\\phi \\right)} \\cos{\\left(\\theta \\right)} & Y{\\left(t,r \\right)} \\sin{\\left(\\theta \\right)} \\cos{\\left(\\phi \\right)}\\\\0 & \\frac{\\cos{\\left(\\theta \\right)} \\frac{\\partial}{\\partial r} Y{\\left(t,r \\right)}}{\\sqrt{1 - \\kappa}} & - Y{\\left(t,r \\right)} \\sin{\\left(\\theta \\right)} & 0\\end{matrix}\\right]$"
      ],
      "text/plain": [
       "⎡1              0                        0                      0           ⎤\n",
       "⎢                                                                           ⎥\n",
       "⎢                 ∂                                                         ⎥\n",
       "⎢   sin(θ)⋅cos(φ)⋅──(Y(t, r))                                               ⎥\n",
       "⎢                 ∂r                                                        ⎥\n",
       "⎢0  ─────────────────────────  Y(t, r)⋅cos(φ)⋅cos(θ)  -Y(t, r)⋅sin(φ)⋅sin(θ)⎥\n",
       "⎢             _______                                                       ⎥\n",
       "⎢           ╲╱ 1 - κ                                                        ⎥\n",
       "⎢                                                                           ⎥\n",
       "⎢                 ∂                                                         ⎥\n",
       "⎢   sin(φ)⋅sin(θ)⋅──(Y(t, r))                                               ⎥\n",
       "⎢                 ∂r                                                        ⎥\n",
       "⎢0  ─────────────────────────  Y(t, r)⋅sin(φ)⋅cos(θ)  Y(t, r)⋅sin(θ)⋅cos(φ) ⎥\n",
       "⎢             _______                                                       ⎥\n",
       "⎢           ╲╱ 1 - κ                                                        ⎥\n",
       "⎢                                                                           ⎥\n",
       "⎢             ∂                                                             ⎥\n",
       "⎢      cos(θ)⋅──(Y(t, r))                                                   ⎥\n",
       "⎢             ∂r                                                            ⎥\n",
       "⎢0     ──────────────────         -Y(t, r)⋅sin(θ)               0           ⎥\n",
       "⎢            _______                                                        ⎥\n",
       "⎣          ╲╱ 1 - κ                                                         ⎦"
      ]
     },
     "metadata": {},
     "output_type": "display_data"
    }
   ],
   "source": [
    "e=pt.ten('e',2)\n",
    "e.assign([[C1,C2,0,0],[C3*sp.sin(theta)*sp.cos(phi),C4*sp.sin(theta)*sp.cos(phi),C5*sp.cos(theta)*sp.cos(phi)-C6*sp.sin(phi),-sp.sin(theta)*(C5*sp.sin(phi)+C6*sp.cos(theta)*sp.cos(phi))],\n",
    "        [C3*sp.sin(theta)*sp.sin(phi),C4*sp.sin(theta)*sp.sin(phi),C5*sp.cos(theta)*sp.sin(phi)+C6*sp.cos(phi),sp.sin(theta)*(C5*sp.cos(phi)-C6*sp.cos(theta)*sp.sin(phi))],\n",
    "        [C3*sp.cos(theta),C4*sp.cos(theta),-C5*sp.sin(theta),C6*sp.sin(theta)**2]],'^A,_mu')\n",
    "\n",
    "e.display('^,_')"
   ]
  },
  {
   "cell_type": "code",
   "execution_count": 13,
   "id": "e5e793bc",
   "metadata": {},
   "outputs": [
    {
     "name": "stdout",
     "output_type": "stream",
     "text": [
      "Elements assigned correctly to the ^mu,_A components\n"
     ]
    },
    {
     "data": {
      "text/latex": [
       "$\\displaystyle \\left[\\begin{matrix}1 & 0 & 0 & 0\\\\0 & \\frac{\\sqrt{1 - \\kappa} \\sin{\\left(\\theta \\right)} \\cos{\\left(\\phi \\right)}}{\\frac{\\partial}{\\partial r} Y{\\left(t,r \\right)}} & \\frac{\\sqrt{1 - \\kappa} \\sin{\\left(\\phi \\right)} \\sin{\\left(\\theta \\right)}}{\\frac{\\partial}{\\partial r} Y{\\left(t,r \\right)}} & \\frac{\\sqrt{1 - \\kappa} \\cos{\\left(\\theta \\right)}}{\\frac{\\partial}{\\partial r} Y{\\left(t,r \\right)}}\\\\0 & \\frac{\\cos{\\left(\\phi \\right)} \\cos{\\left(\\theta \\right)}}{Y{\\left(t,r \\right)}} & \\frac{\\sin{\\left(\\phi \\right)} \\cos{\\left(\\theta \\right)}}{Y{\\left(t,r \\right)}} & - \\frac{\\sin{\\left(\\theta \\right)}}{Y{\\left(t,r \\right)}}\\\\0 & - \\frac{\\sin{\\left(\\phi \\right)}}{Y{\\left(t,r \\right)} \\sin{\\left(\\theta \\right)}} & \\frac{\\cos{\\left(\\phi \\right)}}{Y{\\left(t,r \\right)} \\sin{\\left(\\theta \\right)}} & 0\\end{matrix}\\right]$"
      ],
      "text/plain": [
       "⎡1             0                        0                    0        ⎤\n",
       "⎢                                                                     ⎥\n",
       "⎢     _______                  _______                  _______       ⎥\n",
       "⎢   ╲╱ 1 - κ ⋅sin(θ)⋅cos(φ)  ╲╱ 1 - κ ⋅sin(φ)⋅sin(θ)  ╲╱ 1 - κ ⋅cos(θ)⎥\n",
       "⎢0  ───────────────────────  ───────────────────────  ────────────────⎥\n",
       "⎢         ∂                        ∂                    ∂             ⎥\n",
       "⎢         ──(Y(t, r))              ──(Y(t, r))          ──(Y(t, r))   ⎥\n",
       "⎢         ∂r                       ∂r                   ∂r            ⎥\n",
       "⎢                                                                     ⎥\n",
       "⎢        cos(φ)⋅cos(θ)            sin(φ)⋅cos(θ)           -sin(θ)     ⎥\n",
       "⎢0       ─────────────            ─────────────           ────────    ⎥\n",
       "⎢           Y(t, r)                  Y(t, r)              Y(t, r)     ⎥\n",
       "⎢                                                                     ⎥\n",
       "⎢          -sin(φ)                   cos(φ)                           ⎥\n",
       "⎢0      ──────────────           ──────────────              0        ⎥\n",
       "⎣       Y(t, r)⋅sin(θ)           Y(t, r)⋅sin(θ)                       ⎦"
      ]
     },
     "metadata": {},
     "output_type": "display_data"
    }
   ],
   "source": [
    "M = Matrix(e.tensor[2])\n",
    "M_inverse = M.inv()\n",
    "M_lol=M_inverse.tolist()\n",
    "E=pt.ten('E',2)\n",
    "E.assign(M_lol,'^mu,_A')\n",
    "E.simplify()\n",
    "E.display('^,_')"
   ]
  },
  {
   "cell_type": "code",
   "execution_count": 14,
   "id": "934f309a",
   "metadata": {},
   "outputs": [],
   "source": [
    "d = Matrix(e.tensor[2])\n",
    "det = d.det()\n",
    "detinv = 1/det"
   ]
  },
  {
   "cell_type": "code",
   "execution_count": 15,
   "id": "aa460538",
   "metadata": {},
   "outputs": [
    {
     "name": "stdout",
     "output_type": "stream",
     "text": [
      "Elements assigned correctly to the _A,_B components\n"
     ]
    },
    {
     "data": {
      "text/latex": [
       "$\\displaystyle \\left[\\begin{matrix}-1 & 0 & 0 & 0\\\\0 & 1 & 0 & 0\\\\0 & 0 & 1 & 0\\\\0 & 0 & 0 & 1\\end{matrix}\\right]$"
      ],
      "text/plain": [
       "⎡-1  0  0  0⎤\n",
       "⎢           ⎥\n",
       "⎢0   1  0  0⎥\n",
       "⎢           ⎥\n",
       "⎢0   0  1  0⎥\n",
       "⎢           ⎥\n",
       "⎣0   0  0  1⎦"
      ]
     },
     "metadata": {},
     "output_type": "display_data"
    }
   ],
   "source": [
    "eta=pt.ten('eta',2)\n",
    "eta.assign([[-1,0,0,0],[0,1,0,0],[0,0,1,0],[0,0,0,1]],'_A,_B')\n",
    "eta.display('_,_')"
   ]
  },
  {
   "cell_type": "code",
   "execution_count": 16,
   "id": "e57edca6",
   "metadata": {},
   "outputs": [
    {
     "name": "stdout",
     "output_type": "stream",
     "text": [
      "Elements assigned correctly to the ^A,^B components\n"
     ]
    },
    {
     "data": {
      "text/latex": [
       "$\\displaystyle \\left[\\begin{matrix}-1 & 0 & 0 & 0\\\\0 & 1 & 0 & 0\\\\0 & 0 & 1 & 0\\\\0 & 0 & 0 & 1\\end{matrix}\\right]$"
      ],
      "text/plain": [
       "⎡-1  0  0  0⎤\n",
       "⎢           ⎥\n",
       "⎢0   1  0  0⎥\n",
       "⎢           ⎥\n",
       "⎢0   0  1  0⎥\n",
       "⎢           ⎥\n",
       "⎣0   0  0  1⎦"
      ]
     },
     "metadata": {},
     "output_type": "display_data"
    }
   ],
   "source": [
    "M1 = Matrix(eta.tensor[0])\n",
    "M1_inverse = M1.inv()\n",
    "M1_lol=M1_inverse.tolist()\n",
    "etainv=pt.ten('etainv',2)\n",
    "etainv.assign(M1_lol,'^A,^B')\n",
    "etainv.display('^,^')"
   ]
  },
  {
   "cell_type": "code",
   "execution_count": 17,
   "id": "8659132f",
   "metadata": {},
   "outputs": [
    {
     "name": "stdout",
     "output_type": "stream",
     "text": [
      "Elements assigned correctly to the _mu,_nu components\n"
     ]
    },
    {
     "data": {
      "text/latex": [
       "$\\displaystyle \\left[\\begin{matrix}-1 & 0 & 0 & 0\\\\0 & - \\frac{\\left(\\frac{\\partial}{\\partial r} Y{\\left(t,r \\right)}\\right)^{2}}{\\kappa - 1} & 0 & 0\\\\0 & 0 & Y^{2}{\\left(t,r \\right)} & 0\\\\0 & 0 & 0 & Y^{2}{\\left(t,r \\right)} \\sin^{2}{\\left(\\theta \\right)}\\end{matrix}\\right]$"
      ],
      "text/plain": [
       "⎡-1         0             0             0        ⎤\n",
       "⎢                                                ⎥\n",
       "⎢                  2                             ⎥\n",
       "⎢     ⎛∂          ⎞                              ⎥\n",
       "⎢    -⎜──(Y(t, r))⎟                              ⎥\n",
       "⎢     ⎝∂r         ⎠                              ⎥\n",
       "⎢0   ────────────────     0             0        ⎥\n",
       "⎢         κ - 1                                  ⎥\n",
       "⎢                                                ⎥\n",
       "⎢                       2                        ⎥\n",
       "⎢0          0          Y (t, r)         0        ⎥\n",
       "⎢                                                ⎥\n",
       "⎢                                 2          2   ⎥\n",
       "⎣0          0             0      Y (t, r)⋅sin (θ)⎦"
      ]
     },
     "metadata": {},
     "output_type": "display_data"
    }
   ],
   "source": [
    "ge = pt.ten('ge',2)\n",
    "val1 = eta(\"_A,_B\")*e(\"^A,_mu\")*e(\"^B,_nu\")\n",
    "ge.assign(val1,\"_mu,_nu\")\n",
    "ge.simplify()\n",
    "ge.display('_,_')"
   ]
  },
  {
   "cell_type": "code",
   "execution_count": 18,
   "id": "cdeedbe1",
   "metadata": {},
   "outputs": [
    {
     "name": "stdout",
     "output_type": "stream",
     "text": [
      "Elements assigned correctly to the ^mu,^nu components\n"
     ]
    },
    {
     "data": {
      "text/latex": [
       "$\\displaystyle \\left[\\begin{matrix}-1 & 0 & 0 & 0\\\\0 & \\frac{1 - \\kappa}{\\left(\\frac{\\partial}{\\partial r} Y{\\left(t,r \\right)}\\right)^{2}} & 0 & 0\\\\0 & 0 & \\frac{1}{Y^{2}{\\left(t,r \\right)}} & 0\\\\0 & 0 & 0 & \\frac{1}{Y^{2}{\\left(t,r \\right)} \\sin^{2}{\\left(\\theta \\right)}}\\end{matrix}\\right]$"
      ],
      "text/plain": [
       "⎡-1        0            0             0        ⎤\n",
       "⎢                                              ⎥\n",
       "⎢        1 - κ                                 ⎥\n",
       "⎢0   ──────────────     0             0        ⎥\n",
       "⎢                 2                            ⎥\n",
       "⎢    ⎛∂          ⎞                             ⎥\n",
       "⎢    ⎜──(Y(t, r))⎟                             ⎥\n",
       "⎢    ⎝∂r         ⎠                             ⎥\n",
       "⎢                                              ⎥\n",
       "⎢                       1                      ⎥\n",
       "⎢0         0         ────────         0        ⎥\n",
       "⎢                     2                        ⎥\n",
       "⎢                    Y (t, r)                  ⎥\n",
       "⎢                                              ⎥\n",
       "⎢                                     1        ⎥\n",
       "⎢0         0            0      ────────────────⎥\n",
       "⎢                               2          2   ⎥\n",
       "⎣                              Y (t, r)⋅sin (θ)⎦"
      ]
     },
     "metadata": {},
     "output_type": "display_data"
    }
   ],
   "source": [
    "geinv = pt.ten('geinv',2)\n",
    "val2 = etainv(\"^A,^B\")*E(\"^mu,_A\")*E(\"^nu,_B\")\n",
    "geinv.assign(val2,\"^mu,^nu\")\n",
    "geinv.simplify()\n",
    "geinv.display('^,^')"
   ]
  },
  {
   "cell_type": "code",
   "execution_count": 19,
   "id": "1fa138c1",
   "metadata": {},
   "outputs": [
    {
     "name": "stdout",
     "output_type": "stream",
     "text": [
      "Elements assigned correctly to the ^A,_mu,_nu components\n"
     ]
    }
   ],
   "source": [
    "torsion = pt.ten('torsion',3)\n",
    "val3 = pt.D(e('^A,_nu'),'_mu')-pt.D(e('^A,_mu'),'_nu')\n",
    "torsion.assign(val3, \"^A,_mu,_nu\")\n",
    "torsion.simplify()\n",
    "#torsion.display('^,_,_')"
   ]
  },
  {
   "cell_type": "code",
   "execution_count": 20,
   "id": "6e5b12cf",
   "metadata": {
    "scrolled": false
   },
   "outputs": [
    {
     "name": "stdout",
     "output_type": "stream",
     "text": [
      "Elements assigned correctly to the ^alpha,_mu,_nu components\n"
     ]
    },
    {
     "data": {
      "application/vnd.jupyter.widget-view+json": {
       "model_id": "34199a45a3174554a0886df25808f7e2",
       "version_major": 2,
       "version_minor": 0
      },
      "text/plain": [
       "torsiongreek Tensor $torsiongreek{_\\alpha}{_\\beta}{_\\gamma}$:   0%|          | 0/64 [00:00<?, ?it/s]"
      ]
     },
     "metadata": {},
     "output_type": "display_data"
    },
    {
     "data": {
      "application/vnd.jupyter.widget-view+json": {
       "model_id": "9898f87cb0674b1baf7b4689459bd604",
       "version_major": 2,
       "version_minor": 0
      },
      "text/plain": [
       "torsiongreek Tensor $torsiongreek{^\\alpha}{^\\beta}{_\\gamma}$:   0%|          | 0/64 [00:00<?, ?it/s]"
      ]
     },
     "metadata": {},
     "output_type": "display_data"
    },
    {
     "data": {
      "application/vnd.jupyter.widget-view+json": {
       "model_id": "bf518797b4284b68b74cf63a279c000a",
       "version_major": 2,
       "version_minor": 0
      },
      "text/plain": [
       "torsiongreek Tensor $torsiongreek{^\\alpha}{^\\beta}{^\\gamma}$:   0%|          | 0/64 [00:00<?, ?it/s]"
      ]
     },
     "metadata": {},
     "output_type": "display_data"
    },
    {
     "data": {
      "application/vnd.jupyter.widget-view+json": {
       "model_id": "0ec67f589f2c445f90b546ca9ce60ea8",
       "version_major": 2,
       "version_minor": 0
      },
      "text/plain": [
       "torsiongreek Tensor $torsiongreek{^\\alpha}{_\\beta}{^\\gamma}$:   0%|          | 0/64 [00:00<?, ?it/s]"
      ]
     },
     "metadata": {},
     "output_type": "display_data"
    },
    {
     "data": {
      "application/vnd.jupyter.widget-view+json": {
       "model_id": "b9f89510c3fb463b8050acc9ff0d91c6",
       "version_major": 2,
       "version_minor": 0
      },
      "text/plain": [
       "torsiongreek Tensor $torsiongreek{_\\alpha}{^\\beta}{_\\gamma}$:   0%|          | 0/64 [00:00<?, ?it/s]"
      ]
     },
     "metadata": {},
     "output_type": "display_data"
    },
    {
     "data": {
      "application/vnd.jupyter.widget-view+json": {
       "model_id": "4888da3944bb4024b851771ab39c1d90",
       "version_major": 2,
       "version_minor": 0
      },
      "text/plain": [
       "torsiongreek Tensor $torsiongreek{_\\alpha}{^\\beta}{^\\gamma}$:   0%|          | 0/64 [00:00<?, ?it/s]"
      ]
     },
     "metadata": {},
     "output_type": "display_data"
    },
    {
     "data": {
      "application/vnd.jupyter.widget-view+json": {
       "model_id": "bf0a29ac3fbc40dfa93f232e1a5d811d",
       "version_major": 2,
       "version_minor": 0
      },
      "text/plain": [
       "torsiongreek Tensor $torsiongreek{_\\alpha}{_\\beta}{^\\gamma}$:   0%|          | 0/64 [00:00<?, ?it/s]"
      ]
     },
     "metadata": {},
     "output_type": "display_data"
    },
    {
     "data": {
      "text/latex": [
       "All other indices of torsiongreek Tensor $torsiongreek$  already calculated."
      ],
      "text/plain": [
       "<IPython.core.display.Latex object>"
      ]
     },
     "metadata": {},
     "output_type": "display_data"
    }
   ],
   "source": [
    "torsiongreek = pt.ten('torsiongreek',3)\n",
    "val4 = torsion(\"^A,_mu,_nu\")*E(\"^alpha,_A\")\n",
    "torsiongreek.assign(val4, \"^alpha,_mu,_nu\")\n",
    "torsiongreek.simplify()\n",
    "torsiongreek.complete('^,_,_')\n",
    "#torsiongreek.display('^,^,_')\n",
    "#print(\"\\n\\n\")\n",
    "#torsiongreek.display('^,_,^')\n",
    "#print(\"\\n\\n\")\n",
    "#torsiongreek.display('_,^,^')\n",
    "#print(\"\\n\\n\")\n",
    "#torsiongreek.display('_,^,_')\n",
    "#print(\"\\n\\n\")\n",
    "#torsiongreek.display('^,^,^')\n",
    "#print(\"\\n\\n\")\n",
    "#torsiongreek.display('_,_,_')\n",
    "#print(\"\\n\\n\")\n",
    "#torsiongreek.display('^,_,_')\n",
    "#print(\"\\n\\n\")\n",
    "#torsiongreek.display('_,_,^')"
   ]
  },
  {
   "cell_type": "code",
   "execution_count": 21,
   "id": "c3065956",
   "metadata": {
    "scrolled": false
   },
   "outputs": [
    {
     "name": "stdout",
     "output_type": "stream",
     "text": [
      "Elements assigned correctly to the ^nu,_rho,_mu components\n"
     ]
    },
    {
     "data": {
      "application/vnd.jupyter.widget-view+json": {
       "model_id": "f936778cc8204219b707442520efa221",
       "version_major": 2,
       "version_minor": 0
      },
      "text/plain": [
       "contorsiongreeknew Tensor $contorsiongreeknew{_\\alpha}{_\\beta}{_\\gamma}$:   0%|          | 0/64 [00:00<?, ?it/…"
      ]
     },
     "metadata": {},
     "output_type": "display_data"
    },
    {
     "data": {
      "application/vnd.jupyter.widget-view+json": {
       "model_id": "4ff9f0d1f328485c82a4de0032361f2f",
       "version_major": 2,
       "version_minor": 0
      },
      "text/plain": [
       "contorsiongreeknew Tensor $contorsiongreeknew{^\\alpha}{^\\beta}{_\\gamma}$:   0%|          | 0/64 [00:00<?, ?it/…"
      ]
     },
     "metadata": {},
     "output_type": "display_data"
    },
    {
     "data": {
      "application/vnd.jupyter.widget-view+json": {
       "model_id": "a1e5e5d75b944fa78d671ff4f2b41796",
       "version_major": 2,
       "version_minor": 0
      },
      "text/plain": [
       "contorsiongreeknew Tensor $contorsiongreeknew{^\\alpha}{^\\beta}{^\\gamma}$:   0%|          | 0/64 [00:00<?, ?it/…"
      ]
     },
     "metadata": {},
     "output_type": "display_data"
    },
    {
     "data": {
      "application/vnd.jupyter.widget-view+json": {
       "model_id": "0876d3f79aba4625b9d56bae2b5362f7",
       "version_major": 2,
       "version_minor": 0
      },
      "text/plain": [
       "contorsiongreeknew Tensor $contorsiongreeknew{^\\alpha}{_\\beta}{^\\gamma}$:   0%|          | 0/64 [00:00<?, ?it/…"
      ]
     },
     "metadata": {},
     "output_type": "display_data"
    },
    {
     "data": {
      "application/vnd.jupyter.widget-view+json": {
       "model_id": "dbd249ff89724d75896e941ca53156a3",
       "version_major": 2,
       "version_minor": 0
      },
      "text/plain": [
       "contorsiongreeknew Tensor $contorsiongreeknew{_\\alpha}{^\\beta}{_\\gamma}$:   0%|          | 0/64 [00:00<?, ?it/…"
      ]
     },
     "metadata": {},
     "output_type": "display_data"
    },
    {
     "data": {
      "application/vnd.jupyter.widget-view+json": {
       "model_id": "de1f81e50f694b51a2ddd8bd28de4b6d",
       "version_major": 2,
       "version_minor": 0
      },
      "text/plain": [
       "contorsiongreeknew Tensor $contorsiongreeknew{_\\alpha}{^\\beta}{^\\gamma}$:   0%|          | 0/64 [00:00<?, ?it/…"
      ]
     },
     "metadata": {},
     "output_type": "display_data"
    },
    {
     "data": {
      "application/vnd.jupyter.widget-view+json": {
       "model_id": "200611e8f9cd4249a9066c91e2ef9758",
       "version_major": 2,
       "version_minor": 0
      },
      "text/plain": [
       "contorsiongreeknew Tensor $contorsiongreeknew{_\\alpha}{_\\beta}{^\\gamma}$:   0%|          | 0/64 [00:00<?, ?it/…"
      ]
     },
     "metadata": {},
     "output_type": "display_data"
    },
    {
     "data": {
      "text/latex": [
       "All other indices of contorsiongreeknew Tensor $contorsiongreeknew$  already calculated."
      ],
      "text/plain": [
       "<IPython.core.display.Latex object>"
      ]
     },
     "metadata": {},
     "output_type": "display_data"
    }
   ],
   "source": [
    "#el contorsion greek original era escrito con latinos, este fue hecho totalmente con griegos\n",
    "contorsiongreeknew = pt.ten('contorsiongreeknew',3)\n",
    "val6 = 1/2*(torsiongreek(\"_rho,^nu,_mu\")+torsiongreek(\"_mu,^nu,_rho\")-torsiongreek(\"^nu,_rho,_mu\"))\n",
    "contorsiongreeknew.assign(val6, \"^nu,_rho,_mu\")\n",
    "contorsiongreeknew.simplify()\n",
    "contorsiongreeknew.complete('^,_,_')\n",
    "#contorsiongreeknew.display('^,^,_')\n",
    "#print('\\n\\n')\n",
    "#contorsiongreeknew.display('^,_,^')\n",
    "#print('\\n\\n')\n",
    "#contorsiongreeknew.display('^,^,^')\n",
    "#print('\\n\\n')\n",
    "#contorsiongreeknew.display('_,_,_')\n",
    "#print('\\n\\n')\n",
    "#contorsiongreeknew.display('_,_,^')\n",
    "#print('\\n\\n')\n",
    "#contorsiongreeknew.display('_,^,^')\n",
    "#print('\\n\\n')\n",
    "#contorsiongreeknew.display('_,_,_')\n",
    "#print('\\n\\n')\n",
    "#contorsiongreeknew.display('_,^,_')\n",
    "#print('\\n\\n')\n",
    "#contorsiongreeknew.display('^,_,_')"
   ]
  },
  {
   "cell_type": "code",
   "execution_count": 22,
   "id": "4a25437d",
   "metadata": {
    "scrolled": false
   },
   "outputs": [
    {
     "name": "stdout",
     "output_type": "stream",
     "text": [
      "Elements assigned correctly to the _rho,^mu,^nu components\n"
     ]
    },
    {
     "data": {
      "application/vnd.jupyter.widget-view+json": {
       "model_id": "545b69f7fd964b57ac8e18dff9b7e7b4",
       "version_major": 2,
       "version_minor": 0
      },
      "text/plain": [
       "superpotential Tensor $superpotential{_\\alpha}{_\\beta}{^\\gamma}$:   0%|          | 0/64 [00:00<?, ?it/s]"
      ]
     },
     "metadata": {},
     "output_type": "display_data"
    },
    {
     "data": {
      "application/vnd.jupyter.widget-view+json": {
       "model_id": "5469d9127056447397d42d035d41d41d",
       "version_major": 2,
       "version_minor": 0
      },
      "text/plain": [
       "superpotential Tensor $superpotential{_\\alpha}{_\\beta}{_\\gamma}$:   0%|          | 0/64 [00:00<?, ?it/s]"
      ]
     },
     "metadata": {},
     "output_type": "display_data"
    },
    {
     "data": {
      "application/vnd.jupyter.widget-view+json": {
       "model_id": "f51c5ee39a52484b910b32adf3aa5318",
       "version_major": 2,
       "version_minor": 0
      },
      "text/plain": [
       "superpotential Tensor $superpotential{^\\alpha}{_\\beta}{_\\gamma}$:   0%|          | 0/64 [00:00<?, ?it/s]"
      ]
     },
     "metadata": {},
     "output_type": "display_data"
    },
    {
     "data": {
      "application/vnd.jupyter.widget-view+json": {
       "model_id": "4f1057c28a264c7f915dd1dd521a4550",
       "version_major": 2,
       "version_minor": 0
      },
      "text/plain": [
       "superpotential Tensor $superpotential{^\\alpha}{^\\beta}{_\\gamma}$:   0%|          | 0/64 [00:00<?, ?it/s]"
      ]
     },
     "metadata": {},
     "output_type": "display_data"
    },
    {
     "data": {
      "application/vnd.jupyter.widget-view+json": {
       "model_id": "f51733af90e84e3fa80c53c449d35e88",
       "version_major": 2,
       "version_minor": 0
      },
      "text/plain": [
       "superpotential Tensor $superpotential{^\\alpha}{^\\beta}{^\\gamma}$:   0%|          | 0/64 [00:00<?, ?it/s]"
      ]
     },
     "metadata": {},
     "output_type": "display_data"
    },
    {
     "data": {
      "application/vnd.jupyter.widget-view+json": {
       "model_id": "b9f2b22415bb421b86435249e17c067d",
       "version_major": 2,
       "version_minor": 0
      },
      "text/plain": [
       "superpotential Tensor $superpotential{^\\alpha}{_\\beta}{^\\gamma}$:   0%|          | 0/64 [00:00<?, ?it/s]"
      ]
     },
     "metadata": {},
     "output_type": "display_data"
    },
    {
     "data": {
      "application/vnd.jupyter.widget-view+json": {
       "model_id": "aa33c41586bf45bcb6f60dc5ee1cbf4f",
       "version_major": 2,
       "version_minor": 0
      },
      "text/plain": [
       "superpotential Tensor $superpotential{_\\alpha}{^\\beta}{_\\gamma}$:   0%|          | 0/64 [00:00<?, ?it/s]"
      ]
     },
     "metadata": {},
     "output_type": "display_data"
    },
    {
     "data": {
      "text/latex": [
       "All other indices of superpotential Tensor $superpotential$  already calculated."
      ],
      "text/plain": [
       "<IPython.core.display.Latex object>"
      ]
     },
     "metadata": {},
     "output_type": "display_data"
    }
   ],
   "source": [
    "superpotential = pt.ten('superpotential',3)\n",
    "valchido = 1/2*contorsiongreeknew(\"^mu,^nu,_rho\")-1/2*KD(\"^mu,_rho\")*torsiongreek(\"_sigma,^sigma,^nu\")+1/2*KD(\"^nu,_rho\")*torsiongreek(\"_sigma,^sigma,^mu\")\n",
    "superpotential.assign(valchido, \"_rho,^mu,^nu\")\n",
    "superpotential.simplify()\n",
    "superpotential.complete('_,^,^')\n",
    "#print(\"\\n\\n\")\n",
    "#superpotential.display('_,^,^')\n",
    "#print(\"\\n\\n\")\n",
    "#superpotential.display('^,^,_')\n",
    "#print(\"\\n\\n\")\n",
    "#superpotential.display('^,_,_')\n",
    "#print(\"\\n\\n\")\n",
    "#superpotential.display('_,_,^')\n",
    "#print(\"\\n\\n\")\n",
    "#superpotential.display('^,^,^')\n",
    "#print(\"\\n\\n\")\n",
    "#superpotential.display('^,_,^')\n",
    "#print(\"\\n\\n\")\n",
    "#superpotential.display('_,^,_')\n",
    "#print(\"\\n\\n\")\n",
    "#superpotential.display('_,_,_')"
   ]
  },
  {
   "cell_type": "code",
   "execution_count": 23,
   "id": "08b88c93",
   "metadata": {},
   "outputs": [
    {
     "data": {
      "text/latex": [
       "$\\displaystyle \\frac{2.0 \\kappa}{Y^{2}{\\left(t,r \\right)}} + \\frac{4.0 \\sqrt{1 - \\kappa}}{Y^{2}{\\left(t,r \\right)}} + \\frac{4.0 \\frac{\\partial}{\\partial t} Y{\\left(t,r \\right)} \\frac{\\partial^{2}}{\\partial t\\partial r} Y{\\left(t,r \\right)}}{Y{\\left(t,r \\right)} \\frac{\\partial}{\\partial r} Y{\\left(t,r \\right)}} + \\frac{2.0 \\left(\\frac{\\partial}{\\partial t} Y{\\left(t,r \\right)}\\right)^{2}}{Y^{2}{\\left(t,r \\right)}} - \\frac{4.0}{Y^{2}{\\left(t,r \\right)}}$"
      ],
      "text/plain": [
       "                                              2                              2\n",
       "                               ∂             ∂                  ⎛∂          ⎞ \n",
       "                 _______   4.0⋅──(Y(t, r))⋅─────(Y(t, r))   2.0⋅⎜──(Y(t, r))⎟ \n",
       " 2.0⋅κ     4.0⋅╲╱ 1 - κ        ∂t          ∂t ∂r                ⎝∂t         ⎠ \n",
       "──────── + ───────────── + ────────────────────────────── + ──────────────────\n",
       " 2             2                        ∂                         2           \n",
       "Y (t, r)      Y (t, r)          Y(t, r)⋅──(Y(t, r))              Y (t, r)     \n",
       "                                        ∂r                                    \n",
       "\n",
       "           \n",
       "           \n",
       "           \n",
       "     4.0   \n",
       " - ────────\n",
       "    2      \n",
       "   Y (t, r)\n",
       "           "
      ]
     },
     "execution_count": 23,
     "metadata": {},
     "output_type": "execute_result"
    }
   ],
   "source": [
    "torsionscalar=sp.simplify(superpotential(\"^mu,^beta,^gamma\")*torsiongreek(\"^alpha,_beta,_gamma\")*ge(\"_alpha,_mu\"))\n",
    "torsionscalar"
   ]
  },
  {
   "cell_type": "code",
   "execution_count": 24,
   "id": "80caa0a5",
   "metadata": {},
   "outputs": [
    {
     "data": {
      "text/latex": [
       "$\\displaystyle \\frac{2.0 \\kappa}{Y^{2}{\\left(t,r \\right)}} - \\frac{4.0 \\kappa}{\\sqrt{1 - \\kappa} Y^{2}{\\left(t,r \\right)}} + \\frac{4.0 \\frac{\\partial}{\\partial t} Y{\\left(t,r \\right)} \\frac{\\partial^{2}}{\\partial t\\partial r} Y{\\left(t,r \\right)}}{Y{\\left(t,r \\right)} \\frac{\\partial}{\\partial r} Y{\\left(t,r \\right)}} + \\frac{2.0 \\left(\\frac{\\partial}{\\partial t} Y{\\left(t,r \\right)}\\right)^{2}}{Y^{2}{\\left(t,r \\right)}} - \\frac{4.0}{Y^{2}{\\left(t,r \\right)}} + \\frac{4.0}{\\sqrt{1 - \\kappa} Y^{2}{\\left(t,r \\right)}}$"
      ],
      "text/plain": [
       "                                                   2                          \n",
       "                                    ∂             ∂                  ⎛∂       \n",
       "                                4.0⋅──(Y(t, r))⋅─────(Y(t, r))   2.0⋅⎜──(Y(t, \n",
       " 2.0⋅κ           4.0⋅κ              ∂t          ∂t ∂r                ⎝∂t      \n",
       "──────── - ────────────────── + ────────────────────────────── + ─────────────\n",
       " 2           _______  2                      ∂                         2      \n",
       "Y (t, r)   ╲╱ 1 - κ ⋅Y (t, r)        Y(t, r)⋅──(Y(t, r))              Y (t, r)\n",
       "                                             ∂r                               \n",
       "\n",
       "    2                                \n",
       "   ⎞                                 \n",
       "r))⎟                                 \n",
       "   ⎠      4.0             4.0        \n",
       "───── - ──────── + ──────────────────\n",
       "         2           _______  2      \n",
       "        Y (t, r)   ╲╱ 1 - κ ⋅Y (t, r)\n",
       "                                     "
      ]
     },
     "execution_count": 24,
     "metadata": {},
     "output_type": "execute_result"
    }
   ],
   "source": [
    "tscal=sp.simplify(superpotential(\"_rho,^sigma,^mu\")*torsiongreek(\"^rho,_sigma,_mu\"))\n",
    "tscal"
   ]
  },
  {
   "cell_type": "code",
   "execution_count": 25,
   "id": "4c898e9c",
   "metadata": {},
   "outputs": [
    {
     "data": {
      "text/latex": [
       "$\\displaystyle \\frac{2.0 \\kappa}{Y^{2}{\\left(t,r \\right)}} + \\frac{4.0 \\sqrt{1 - \\kappa}}{Y^{2}{\\left(t,r \\right)}} + \\frac{4.0 \\frac{\\partial}{\\partial t} Y{\\left(t,r \\right)} \\frac{\\partial^{2}}{\\partial t\\partial r} Y{\\left(t,r \\right)}}{Y{\\left(t,r \\right)} \\frac{\\partial}{\\partial r} Y{\\left(t,r \\right)}} + \\frac{2.0 \\left(\\frac{\\partial}{\\partial t} Y{\\left(t,r \\right)}\\right)^{2}}{Y^{2}{\\left(t,r \\right)}} - \\frac{4.0}{Y^{2}{\\left(t,r \\right)}}$"
      ],
      "text/plain": [
       "                                              2                              2\n",
       "                               ∂             ∂                  ⎛∂          ⎞ \n",
       "                 _______   4.0⋅──(Y(t, r))⋅─────(Y(t, r))   2.0⋅⎜──(Y(t, r))⎟ \n",
       " 2.0⋅κ     4.0⋅╲╱ 1 - κ        ∂t          ∂t ∂r                ⎝∂t         ⎠ \n",
       "──────── + ───────────── + ────────────────────────────── + ──────────────────\n",
       " 2             2                        ∂                         2           \n",
       "Y (t, r)      Y (t, r)          Y(t, r)⋅──(Y(t, r))              Y (t, r)     \n",
       "                                        ∂r                                    \n",
       "\n",
       "           \n",
       "           \n",
       "           \n",
       "     4.0   \n",
       " - ────────\n",
       "    2      \n",
       "   Y (t, r)\n",
       "           "
      ]
     },
     "execution_count": 25,
     "metadata": {},
     "output_type": "execute_result"
    }
   ],
   "source": [
    "tscalar1=sp.simplify((torsiongreek(\"^mu,_sigma,_alpha\")*g(\"^sigma,^nu\")*g(\"^alpha,^rho\"))*(torsiongreek(\"^beta,_nu,_rho\")*g(\"_beta,_mu\")))\n",
    "tscalar2=sp.simplify((torsiongreek(\"^mu,_sigma,_alpha\")*g(\"^sigma,^nu\")*g(\"^alpha,^rho\"))*(torsiongreek(\"^beta,_nu,_mu\")*g(\"_beta,_rho\")))\n",
    "tscalar3=sp.simplify((torsiongreek(\"^mu,_mu,_rho\"))*(torsiongreek(\"^beta,_sigma,_alpha\")*g(\"_beta,_nu\")*g(\"^sigma,^nu\")*g(\"^alpha,^rho\")))\n",
    "scalarchido = sp.simplify(1/4*tscalar1+1/2*tscalar2-tscalar3)\n",
    "scalarchido"
   ]
  },
  {
   "cell_type": "code",
   "execution_count": 26,
   "id": "b3eb80eb",
   "metadata": {},
   "outputs": [
    {
     "name": "stdout",
     "output_type": "stream",
     "text": [
      "Elements assigned correctly to the ^ components\n"
     ]
    },
    {
     "data": {
      "text/latex": [
       "$\\displaystyle \\left[\\begin{matrix}1\\\\0\\\\0\\\\0\\end{matrix}\\right]$"
      ],
      "text/plain": [
       "⎡1⎤\n",
       "⎢ ⎥\n",
       "⎢0⎥\n",
       "⎢ ⎥\n",
       "⎢0⎥\n",
       "⎢ ⎥\n",
       "⎣0⎦"
      ]
     },
     "metadata": {},
     "output_type": "display_data"
    }
   ],
   "source": [
    "U=pt.ten('U',1)\n",
    "U.assign([1,0,0,0],'^')\n",
    "U.display('^')"
   ]
  },
  {
   "cell_type": "code",
   "execution_count": 27,
   "id": "6739f33f",
   "metadata": {},
   "outputs": [
    {
     "name": "stdout",
     "output_type": "stream",
     "text": [
      "Elements assigned correctly to the ^mu,^nu components\n"
     ]
    },
    {
     "data": {
      "application/vnd.jupyter.widget-view+json": {
       "model_id": "e93dc09422d946c5ab0a535daf6de8c7",
       "version_major": 2,
       "version_minor": 0
      },
      "text/plain": [
       "Theta Tensor $Theta{_\\alpha}{^\\beta}$:   0%|          | 0/16 [00:00<?, ?it/s]"
      ]
     },
     "metadata": {},
     "output_type": "display_data"
    },
    {
     "data": {
      "application/vnd.jupyter.widget-view+json": {
       "model_id": "8e9887ba7fed42b78e5f11b34ef8dd35",
       "version_major": 2,
       "version_minor": 0
      },
      "text/plain": [
       "Theta Tensor $Theta{_\\alpha}{_\\beta}$:   0%|          | 0/16 [00:00<?, ?it/s]"
      ]
     },
     "metadata": {},
     "output_type": "display_data"
    },
    {
     "data": {
      "application/vnd.jupyter.widget-view+json": {
       "model_id": "aae8d74f65af4f13a66cae9a378b4e27",
       "version_major": 2,
       "version_minor": 0
      },
      "text/plain": [
       "Theta Tensor $Theta{^\\alpha}{_\\beta}$:   0%|          | 0/16 [00:00<?, ?it/s]"
      ]
     },
     "metadata": {},
     "output_type": "display_data"
    },
    {
     "data": {
      "text/latex": [
       "All other indices of Theta Tensor $Theta$  already calculated."
      ],
      "text/plain": [
       "<IPython.core.display.Latex object>"
      ]
     },
     "metadata": {},
     "output_type": "display_data"
    }
   ],
   "source": [
    "rho = pt.fun('rho','t')\n",
    "P = pt.fun('P','t')\n",
    "Theta = pt.ten('Theta',2)\n",
    "val11 = ((rho+P)*U(\"^mu\")*U(\"^nu\")-P*g(\"^mu,^nu\"))\n",
    "Theta.assign(val11,\"^mu,^nu\")\n",
    "Theta.simplify()\n",
    "Theta.complete('^,^')\n",
    "#Theta.display('_,^')\n",
    "#Theta.display('^,_')"
   ]
  },
  {
   "cell_type": "code",
   "execution_count": 28,
   "id": "181dc893",
   "metadata": {},
   "outputs": [
    {
     "data": {
      "text/latex": [
       "$\\displaystyle \\frac{Y^{2}{\\left(t,r \\right)} \\sin{\\left(\\theta \\right)} \\frac{\\partial}{\\partial r} Y{\\left(t,r \\right)}}{\\sqrt{1 - \\kappa}}$"
      ],
      "text/plain": [
       " 2              ∂          \n",
       "Y (t, r)⋅sin(θ)⋅──(Y(t, r))\n",
       "                ∂r         \n",
       "───────────────────────────\n",
       "           _______         \n",
       "         ╲╱ 1 - κ          "
      ]
     },
     "execution_count": 28,
     "metadata": {},
     "output_type": "execute_result"
    }
   ],
   "source": [
    "dett = sp.simplify(det)\n",
    "dett"
   ]
  },
  {
   "cell_type": "code",
   "execution_count": 29,
   "id": "82894d74",
   "metadata": {},
   "outputs": [
    {
     "data": {
      "text/latex": [
       "Christoffel $\\Gamma_{\\alpha \\beta \\gamma}$ and $\\Gamma^{\\alpha}_{\\beta \\gamma}$"
      ],
      "text/plain": [
       "<IPython.core.display.Latex object>"
      ]
     },
     "metadata": {},
     "output_type": "display_data"
    },
    {
     "data": {
      "application/vnd.jupyter.widget-view+json": {
       "model_id": "62f4bb5f78ba41b3ab31c1dfc598a058",
       "version_major": 2,
       "version_minor": 0
      },
      "text/plain": [
       "  0%|          | 0/64 [00:00<?, ?it/s]"
      ]
     },
     "metadata": {},
     "output_type": "display_data"
    },
    {
     "data": {
      "text/latex": [
       "Riemann Tensor $R^{\\alpha}_{\\beta \\gamma \\delta}$"
      ],
      "text/plain": [
       "<IPython.core.display.Latex object>"
      ]
     },
     "metadata": {},
     "output_type": "display_data"
    },
    {
     "data": {
      "application/vnd.jupyter.widget-view+json": {
       "model_id": "33c26da696234c2c884254e1461225b6",
       "version_major": 2,
       "version_minor": 0
      },
      "text/plain": [
       "  0%|          | 0/256 [00:00<?, ?it/s]"
      ]
     },
     "metadata": {},
     "output_type": "display_data"
    },
    {
     "data": {
      "text/latex": [
       "Ricci Tensor $R_{\\alpha \\beta}$"
      ],
      "text/plain": [
       "<IPython.core.display.Latex object>"
      ]
     },
     "metadata": {},
     "output_type": "display_data"
    },
    {
     "data": {
      "application/vnd.jupyter.widget-view+json": {
       "model_id": "79b6f9c3d2914d5da7b9a1ccb6bf2e17",
       "version_major": 2,
       "version_minor": 0
      },
      "text/plain": [
       "  0%|          | 0/16 [00:00<?, ?it/s]"
      ]
     },
     "metadata": {},
     "output_type": "display_data"
    },
    {
     "name": "stdout",
     "output_type": "stream",
     "text": [
      "\n",
      "\n",
      "\n"
     ]
    },
    {
     "data": {
      "application/vnd.jupyter.widget-view+json": {
       "model_id": "af053325ab1c48fa9a814ce70c52ac4b",
       "version_major": 2,
       "version_minor": 0
      },
      "text/plain": [
       "  0%|          | 0/16 [00:00<?, ?it/s]"
      ]
     },
     "metadata": {},
     "output_type": "display_data"
    },
    {
     "data": {
      "text/latex": [
       "Ricci Scalar $R$"
      ],
      "text/plain": [
       "<IPython.core.display.Latex object>"
      ]
     },
     "metadata": {},
     "output_type": "display_data"
    },
    {
     "data": {
      "text/latex": [
       "$\\displaystyle \\frac{2 \\left(\\kappa \\frac{\\partial}{\\partial r} Y{\\left(t,r \\right)} + Y^{2}{\\left(t,r \\right)} \\frac{\\partial^{3}}{\\partial t^{2}\\partial r} Y{\\left(t,r \\right)} + 2 Y{\\left(t,r \\right)} \\frac{\\partial}{\\partial r} Y{\\left(t,r \\right)} \\frac{\\partial^{2}}{\\partial t^{2}} Y{\\left(t,r \\right)} + 2 Y{\\left(t,r \\right)} \\frac{\\partial}{\\partial t} Y{\\left(t,r \\right)} \\frac{\\partial^{2}}{\\partial t\\partial r} Y{\\left(t,r \\right)} + \\frac{\\partial}{\\partial r} Y{\\left(t,r \\right)} \\left(\\frac{\\partial}{\\partial t} Y{\\left(t,r \\right)}\\right)^{2}\\right)}{Y^{2}{\\left(t,r \\right)} \\frac{\\partial}{\\partial r} Y{\\left(t,r \\right)}}$"
      ],
      "text/plain": [
       "<IPython.core.display.Math object>"
      ]
     },
     "metadata": {},
     "output_type": "display_data"
    },
    {
     "name": "stdout",
     "output_type": "stream",
     "text": [
      "\n",
      "\n",
      "\n",
      "Boundery Term:\n"
     ]
    },
    {
     "data": {
      "text/latex": [
       "$\\displaystyle \\frac{4 \\kappa}{Y^{2}{\\left(t,r \\right)}} - \\frac{4 \\kappa}{\\sqrt{1 - \\kappa} Y^{2}{\\left(t,r \\right)}} + \\frac{2 \\frac{\\partial^{3}}{\\partial t^{2}\\partial r} Y{\\left(t,r \\right)}}{\\frac{\\partial}{\\partial r} Y{\\left(t,r \\right)}} + \\frac{4 \\frac{\\partial^{2}}{\\partial t^{2}} Y{\\left(t,r \\right)}}{Y{\\left(t,r \\right)}} + \\frac{8 \\frac{\\partial}{\\partial t} Y{\\left(t,r \\right)} \\frac{\\partial^{2}}{\\partial t\\partial r} Y{\\left(t,r \\right)}}{Y{\\left(t,r \\right)} \\frac{\\partial}{\\partial r} Y{\\left(t,r \\right)}} + \\frac{4 \\left(\\frac{\\partial}{\\partial t} Y{\\left(t,r \\right)}\\right)^{2}}{Y^{2}{\\left(t,r \\right)}} - \\frac{4}{Y^{2}{\\left(t,r \\right)}} + \\frac{4}{\\sqrt{1 - \\kappa} Y^{2}{\\left(t,r \\right)}}$"
      ],
      "text/plain": [
       "                                     3                  2                     \n",
       "                                    ∂                  ∂                      \n",
       "                                2⋅──────(Y(t, r))   4⋅───(Y(t, r))     ∂      \n",
       "                                    2                   2            8⋅──(Y(t,\n",
       "  4⋅κ             4⋅κ             ∂t  ∂r              ∂t               ∂t     \n",
       "──────── - ────────────────── + ───────────────── + ────────────── + ─────────\n",
       " 2           _______  2            ∂                   Y(t, r)                \n",
       "Y (t, r)   ╲╱ 1 - κ ⋅Y (t, r)      ──(Y(t, r))                           Y(t, \n",
       "                                   ∂r                                         \n",
       "\n",
       "                                                                      \n",
       "        2                            2                                \n",
       "       ∂                ⎛∂          ⎞                                 \n",
       " r))⋅─────(Y(t, r))   4⋅⎜──(Y(t, r))⎟                                 \n",
       "     ∂t ∂r              ⎝∂t         ⎠       4               4         \n",
       "─────────────────── + ──────────────── - ──────── + ──────────────────\n",
       "   ∂                       2              2           _______  2      \n",
       "r)⋅──(Y(t, r))            Y (t, r)       Y (t, r)   ╲╱ 1 - κ ⋅Y (t, r)\n",
       "   ∂r                                                                 "
      ]
     },
     "execution_count": 29,
     "metadata": {},
     "output_type": "execute_result"
    }
   ],
   "source": [
    "Ri=pt.ricci()\n",
    "print('\\n\\n')\n",
    "Ris=pt.riccis()\n",
    "pt.display(Ris)\n",
    "print('\\n\\n')\n",
    "Bterm=sp.simplify(2/dett*pt.D(dett*torsiongreek('^nu,_nu,^mu'),'_mu'))\n",
    "print('Boundery Term:')\n",
    "Bterm"
   ]
  },
  {
   "cell_type": "code",
   "execution_count": 30,
   "id": "e5d48ac4",
   "metadata": {},
   "outputs": [
    {
     "data": {
      "text/latex": [
       "$\\displaystyle 0$"
      ],
      "text/plain": [
       "0"
      ]
     },
     "execution_count": 30,
     "metadata": {},
     "output_type": "execute_result"
    }
   ],
   "source": [
    "Consistency=sp.simplify(Ris+torsionscalar-Bterm)\n",
    "Consistency"
   ]
  },
  {
   "cell_type": "code",
   "execution_count": 31,
   "id": "81c77077",
   "metadata": {},
   "outputs": [
    {
     "name": "stdout",
     "output_type": "stream",
     "text": [
      "Elements assigned correctly to the _A,^mu components\n",
      "Elements assigned correctly to the ^sigma,_nu,_A components\n",
      "Elements assigned correctly to the _A,^mu,^sigma components\n"
     ]
    }
   ],
   "source": [
    "Thetaecuacion = pt.ten('Thetaecuacion',2)\n",
    "valtheta = Theta(\"_sigma,^mu\")*E(\"^sigma,_A\")\n",
    "Thetaecuacion.assign(valtheta, \"_A,^mu\")\n",
    "Thetaecuacion.simplify()\n",
    "#Thetaecuacion.display('_,^')\n",
    "#print('\\n\\n')\n",
    "torsiongreekecuacion = pt.ten('torsiongreekecuacion',3)\n",
    "valtorsion = torsiongreek(\"^sigma,_mu,_nu\")*E(\"^mu,_A\")\n",
    "torsiongreekecuacion.assign(valtorsion, \"^sigma,_nu,_A\")\n",
    "torsiongreekecuacion.simplify()\n",
    "#torsiongreekecuacion.display(\"^,_,_\")\n",
    "#print('\\n\\n')\n",
    "superpotentialecuacion = pt.ten('superpotentialecuacion',3)\n",
    "valsuperpotential = superpotential(\"_nu,^mu,^sigma\")*E(\"^nu,_A\")\n",
    "superpotentialecuacion.assign(valsuperpotential, \"_A,^mu,^sigma\")\n",
    "superpotentialecuacion.simplify()\n",
    "#superpotentialecuacion.display(\"_,^,^\")"
   ]
  },
  {
   "cell_type": "code",
   "execution_count": 32,
   "id": "a34ef5d2",
   "metadata": {},
   "outputs": [
    {
     "name": "stdout",
     "output_type": "stream",
     "text": [
      "Elements assigned correctly to the _nu,^mu components\n"
     ]
    },
    {
     "data": {
      "application/vnd.jupyter.widget-view+json": {
       "model_id": "f8a383fa9d784bb281f714643687dfc3",
       "version_major": 2,
       "version_minor": 0
      },
      "text/plain": [
       "termino1 Tensor $termino1{_\\alpha}{_\\beta}$:   0%|          | 0/16 [00:00<?, ?it/s]"
      ]
     },
     "metadata": {},
     "output_type": "display_data"
    },
    {
     "data": {
      "application/vnd.jupyter.widget-view+json": {
       "model_id": "a69ddd48d80a4242998af1daa0b52277",
       "version_major": 2,
       "version_minor": 0
      },
      "text/plain": [
       "termino1 Tensor $termino1{^\\alpha}{_\\beta}$:   0%|          | 0/16 [00:00<?, ?it/s]"
      ]
     },
     "metadata": {},
     "output_type": "display_data"
    },
    {
     "data": {
      "application/vnd.jupyter.widget-view+json": {
       "model_id": "ccc67dd259164608b57ae3d8fba4c431",
       "version_major": 2,
       "version_minor": 0
      },
      "text/plain": [
       "termino1 Tensor $termino1{^\\alpha}{^\\beta}$:   0%|          | 0/16 [00:00<?, ?it/s]"
      ]
     },
     "metadata": {},
     "output_type": "display_data"
    },
    {
     "data": {
      "text/latex": [
       "All other indices of termino1 Tensor $termino1$  already calculated."
      ],
      "text/plain": [
       "<IPython.core.display.Latex object>"
      ]
     },
     "metadata": {},
     "output_type": "display_data"
    }
   ],
   "source": [
    "termino1 = pt.ten('termino1',2)\n",
    "valtermino1 = 2*1/dett*e(\"^A,_nu\")*pt.D(dett*superpotentialecuacion(\"_A,^mu,^sigma\"),'_sigma')\n",
    "termino1.assign(valtermino1, \"_nu,^mu\")\n",
    "termino1.simplify()\n",
    "termino1.complete('_,^')\n",
    "#termino1.display('_,^', aslist=True)"
   ]
  },
  {
   "cell_type": "code",
   "execution_count": 33,
   "id": "6bac8dfe",
   "metadata": {},
   "outputs": [
    {
     "name": "stdout",
     "output_type": "stream",
     "text": [
      "Elements assigned correctly to the _beta,^mu components\n"
     ]
    },
    {
     "data": {
      "application/vnd.jupyter.widget-view+json": {
       "model_id": "6b8cc8d359364b4d8328d221e860e73f",
       "version_major": 2,
       "version_minor": 0
      },
      "text/plain": [
       "termino2 Tensor $termino2{_\\alpha}{_\\beta}$:   0%|          | 0/16 [00:00<?, ?it/s]"
      ]
     },
     "metadata": {},
     "output_type": "display_data"
    },
    {
     "data": {
      "application/vnd.jupyter.widget-view+json": {
       "model_id": "fb92f31a94ca4dad9ef73bd0ac7d996c",
       "version_major": 2,
       "version_minor": 0
      },
      "text/plain": [
       "termino2 Tensor $termino2{^\\alpha}{_\\beta}$:   0%|          | 0/16 [00:00<?, ?it/s]"
      ]
     },
     "metadata": {},
     "output_type": "display_data"
    },
    {
     "data": {
      "application/vnd.jupyter.widget-view+json": {
       "model_id": "2c7116a3a93e435eb27c79905f46e262",
       "version_major": 2,
       "version_minor": 0
      },
      "text/plain": [
       "termino2 Tensor $termino2{^\\alpha}{^\\beta}$:   0%|          | 0/16 [00:00<?, ?it/s]"
      ]
     },
     "metadata": {},
     "output_type": "display_data"
    },
    {
     "data": {
      "text/latex": [
       "All other indices of termino2 Tensor $termino2$  already calculated."
      ],
      "text/plain": [
       "<IPython.core.display.Latex object>"
      ]
     },
     "metadata": {},
     "output_type": "display_data"
    }
   ],
   "source": [
    "termino2 = pt.ten('termino2',2)\n",
    "valtermino2 = 2*torsiongreek(\"^sigma,_nu,_beta\")*superpotential(\"_sigma,^mu,^nu\")\n",
    "termino2.assign(valtermino2, \"_beta,^mu\")\n",
    "termino2.simplify()\n",
    "termino2.complete('_,^')\n",
    "#termino2.display('_,^', aslist=True)"
   ]
  },
  {
   "cell_type": "code",
   "execution_count": 34,
   "id": "c7132073",
   "metadata": {},
   "outputs": [
    {
     "name": "stdout",
     "output_type": "stream",
     "text": [
      "Elements assigned correctly to the ^mu,_nu components\n"
     ]
    },
    {
     "data": {
      "application/vnd.jupyter.widget-view+json": {
       "model_id": "f4e1036257374e79a5e713c3aaa8c2db",
       "version_major": 2,
       "version_minor": 0
      },
      "text/plain": [
       "termino3 Tensor $termino3{_\\alpha}{_\\beta}$:   0%|          | 0/16 [00:00<?, ?it/s]"
      ]
     },
     "metadata": {},
     "output_type": "display_data"
    },
    {
     "data": {
      "application/vnd.jupyter.widget-view+json": {
       "model_id": "b9a6f4729f22498f8e2e03f0e79af7b4",
       "version_major": 2,
       "version_minor": 0
      },
      "text/plain": [
       "termino3 Tensor $termino3{^\\alpha}{^\\beta}$:   0%|          | 0/16 [00:00<?, ?it/s]"
      ]
     },
     "metadata": {},
     "output_type": "display_data"
    },
    {
     "data": {
      "application/vnd.jupyter.widget-view+json": {
       "model_id": "97caa97d43984c2aa5839c4d106975a2",
       "version_major": 2,
       "version_minor": 0
      },
      "text/plain": [
       "termino3 Tensor $termino3{_\\alpha}{^\\beta}$:   0%|          | 0/16 [00:00<?, ?it/s]"
      ]
     },
     "metadata": {},
     "output_type": "display_data"
    },
    {
     "data": {
      "text/latex": [
       "All other indices of termino3 Tensor $termino3$  already calculated."
      ],
      "text/plain": [
       "<IPython.core.display.Latex object>"
      ]
     },
     "metadata": {},
     "output_type": "display_data"
    }
   ],
   "source": [
    "termino3 = pt.ten('termino3',2)\n",
    "valtermino3 = 1/2*E(\"^mu,_A\")*e('^A,_nu')*torsionscalar\n",
    "termino3.assign(valtermino3, \"^mu,_nu\")\n",
    "termino3.simplify()\n",
    "termino3.complete('^,_')\n",
    "#termino3.display('_,^', aslist=True)"
   ]
  },
  {
   "cell_type": "code",
   "execution_count": 35,
   "id": "5987f617",
   "metadata": {},
   "outputs": [
    {
     "name": "stdout",
     "output_type": "stream",
     "text": [
      "Elements assigned correctly to the _nu,^mu components\n"
     ]
    },
    {
     "data": {
      "application/vnd.jupyter.widget-view+json": {
       "model_id": "0116b7b37fb6421daad4ba40377d7bed",
       "version_major": 2,
       "version_minor": 0
      },
      "text/plain": [
       "Teleparalelvar Tensor $Teleparalelvar{_\\alpha}{_\\beta}$:   0%|          | 0/16 [00:00<?, ?it/s]"
      ]
     },
     "metadata": {},
     "output_type": "display_data"
    },
    {
     "data": {
      "application/vnd.jupyter.widget-view+json": {
       "model_id": "30116a4821e041f08d244836c6eb8abc",
       "version_major": 2,
       "version_minor": 0
      },
      "text/plain": [
       "Teleparalelvar Tensor $Teleparalelvar{^\\alpha}{_\\beta}$:   0%|          | 0/16 [00:00<?, ?it/s]"
      ]
     },
     "metadata": {},
     "output_type": "display_data"
    },
    {
     "data": {
      "application/vnd.jupyter.widget-view+json": {
       "model_id": "12199bddd48a4b48ae37afb8727131cd",
       "version_major": 2,
       "version_minor": 0
      },
      "text/plain": [
       "Teleparalelvar Tensor $Teleparalelvar{^\\alpha}{^\\beta}$:   0%|          | 0/16 [00:00<?, ?it/s]"
      ]
     },
     "metadata": {},
     "output_type": "display_data"
    },
    {
     "data": {
      "text/latex": [
       "All other indices of Teleparalelvar Tensor $Teleparalelvar$  already calculated."
      ],
      "text/plain": [
       "<IPython.core.display.Latex object>"
      ]
     },
     "metadata": {},
     "output_type": "display_data"
    },
    {
     "data": {
      "text/latex": [
       "$\\displaystyle {Teleparalelvar}{}_{0}\\,{}^{0}\\, = 2.0 K^{2} P{\\left(t \\right)} + 1.0 K^{2} \\rho{\\left(t \\right)} - \\frac{1.0 \\kappa}{Y^{2}{\\left(t,r \\right)}} - \\frac{2.0 \\frac{\\partial}{\\partial t} Y{\\left(t,r \\right)} \\frac{\\partial^{2}}{\\partial t\\partial r} Y{\\left(t,r \\right)}}{Y{\\left(t,r \\right)} \\frac{\\partial}{\\partial r} Y{\\left(t,r \\right)}} - \\frac{1.0 \\left(\\frac{\\partial}{\\partial t} Y{\\left(t,r \\right)}\\right)^{2}}{Y^{2}{\\left(t,r \\right)}}$"
      ],
      "text/plain": [
       "<IPython.core.display.Math object>"
      ]
     },
     "metadata": {},
     "output_type": "display_data"
    },
    {
     "data": {
      "text/latex": [
       "$\\displaystyle {Teleparalelvar}{}_{1}\\,{}^{1}\\, = \\frac{1.0 \\cdot \\left(1.0 K^{2} P{\\left(t \\right)} Y^{2}{\\left(t,r \\right)} - 1.0 \\kappa - 2.0 Y{\\left(t,r \\right)} \\frac{\\partial^{2}}{\\partial t^{2}} Y{\\left(t,r \\right)} - 1.0 \\left(\\frac{\\partial}{\\partial t} Y{\\left(t,r \\right)}\\right)^{2}\\right)}{Y^{2}{\\left(t,r \\right)}}$"
      ],
      "text/plain": [
       "<IPython.core.display.Math object>"
      ]
     },
     "metadata": {},
     "output_type": "display_data"
    },
    {
     "data": {
      "text/latex": [
       "$\\displaystyle {Teleparalelvar}{}_{2}\\,{}^{2}\\, = 1.0 K^{2} P{\\left(t \\right)} - \\frac{1.0 \\frac{\\partial^{3}}{\\partial t^{2}\\partial r} Y{\\left(t,r \\right)}}{\\frac{\\partial}{\\partial r} Y{\\left(t,r \\right)}} - \\frac{1.0 \\frac{\\partial^{2}}{\\partial t^{2}} Y{\\left(t,r \\right)}}{Y{\\left(t,r \\right)}} - \\frac{1.0 \\frac{\\partial}{\\partial t} Y{\\left(t,r \\right)} \\frac{\\partial^{2}}{\\partial t\\partial r} Y{\\left(t,r \\right)}}{Y{\\left(t,r \\right)} \\frac{\\partial}{\\partial r} Y{\\left(t,r \\right)}}$"
      ],
      "text/plain": [
       "<IPython.core.display.Math object>"
      ]
     },
     "metadata": {},
     "output_type": "display_data"
    },
    {
     "data": {
      "text/latex": [
       "$\\displaystyle {Teleparalelvar}{}_{3}\\,{}^{3}\\, = 1.0 K^{2} P{\\left(t \\right)} - \\frac{1.0 \\frac{\\partial^{3}}{\\partial t^{2}\\partial r} Y{\\left(t,r \\right)}}{\\frac{\\partial}{\\partial r} Y{\\left(t,r \\right)}} - \\frac{1.0 \\frac{\\partial^{2}}{\\partial t^{2}} Y{\\left(t,r \\right)}}{Y{\\left(t,r \\right)}} - \\frac{1.0 \\frac{\\partial}{\\partial t} Y{\\left(t,r \\right)} \\frac{\\partial^{2}}{\\partial t\\partial r} Y{\\left(t,r \\right)}}{Y{\\left(t,r \\right)} \\frac{\\partial}{\\partial r} Y{\\left(t,r \\right)}}$"
      ],
      "text/plain": [
       "<IPython.core.display.Math object>"
      ]
     },
     "metadata": {},
     "output_type": "display_data"
    }
   ],
   "source": [
    "Teleparalelvar = pt.ten('Teleparalelvar',2)\n",
    "valvar = termino1(\"_nu,^mu\")+termino2(\"_nu,^mu\")+termino3(\"_nu,^mu\")-K**2*Theta(\"_nu,^mu\")\n",
    "Teleparalelvar.assign(valvar, \"_nu,^mu\")\n",
    "Teleparalelvar.simplify()\n",
    "Teleparalelvar.complete('_,^')\n",
    "#Teleparalelvar.display('^,_', aslist=True)\n",
    "#Teleparalelvar.display('_,_', aslist=True)\n",
    "#print('\\n EL BUENO \\n')\n",
    "Teleparalelvar.display('_,^', aslist=True)\n",
    "#print('\\n EL BUENO \\n')\n",
    "#Teleparalelvar.display('^,^', aslist=True)"
   ]
  },
  {
   "cell_type": "code",
   "execution_count": null,
   "id": "5e4c18b9",
   "metadata": {},
   "outputs": [],
   "source": []
  }
 ],
 "metadata": {
  "kernelspec": {
   "display_name": "Python 3 (ipykernel)",
   "language": "python",
   "name": "python3"
  },
  "language_info": {
   "codemirror_mode": {
    "name": "ipython",
    "version": 3
   },
   "file_extension": ".py",
   "mimetype": "text/x-python",
   "name": "python",
   "nbconvert_exporter": "python",
   "pygments_lexer": "ipython3",
   "version": "3.8.16"
  },
  "vscode": {
   "interpreter": {
    "hash": "47e86e659cc4c7e7c8281f4dfa198d26eba569ed7d4f5779d5419dff2bd0d92c"
   }
  }
 },
 "nbformat": 4,
 "nbformat_minor": 5
}
