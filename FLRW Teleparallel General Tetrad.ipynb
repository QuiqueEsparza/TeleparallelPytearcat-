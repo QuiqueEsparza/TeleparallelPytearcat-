{
 "cells": [
  {
   "cell_type": "code",
   "execution_count": 1,
   "id": "6b875463",
   "metadata": {},
   "outputs": [],
   "source": [
    "import pytearcat as pt\n",
    "import sympy as sp\n",
    "import numpy as np\n",
    "from sympy import *\n",
    "init_printing(use_unicode=True)"
   ]
  },
  {
   "cell_type": "code",
   "execution_count": 2,
   "id": "3b62fa64",
   "metadata": {},
   "outputs": [
    {
     "name": "stdout",
     "output_type": "stream",
     "text": [
      "Remember that the time coordinate must be the first coordinate.\n"
     ]
    }
   ],
   "source": [
    "t,r,theta,phi=pt.coords('t,r,theta,phi')"
   ]
  },
  {
   "cell_type": "code",
   "execution_count": 3,
   "id": "ff0d288c",
   "metadata": {},
   "outputs": [],
   "source": [
    "a=pt.fun('a','t')\n",
    "K=pt.con('K')\n",
    "k=pt.con('kappa')\n",
    "Y=pt.fun('Y','t,r')\n",
    "KD = pt.kdelta()"
   ]
  },
  {
   "cell_type": "code",
   "execution_count": 4,
   "id": "b2c69509",
   "metadata": {},
   "outputs": [],
   "source": [
    "KD = pt.kdelta()"
   ]
  },
  {
   "cell_type": "code",
   "execution_count": 5,
   "id": "135fc2f0",
   "metadata": {},
   "outputs": [],
   "source": [
    "#ds='ds2=(-C1**2+C3**2)*dt**2+2*(-C1*C2+C3*C4)*dt*dr+(-C2**2+C4**2)*dr**2+(C5**2+C6**2)*dtheta**2+sin(theta)**2*(C5**2+C6**2)*dphi**2'"
   ]
  },
  {
   "cell_type": "code",
   "execution_count": 6,
   "id": "80f473ce",
   "metadata": {},
   "outputs": [],
   "source": [
    "ds='ds2=-dt**2+a**2*dr**2+a**2*r**2*dtheta**2+a**2*r**2*sin(theta)**2*dphi**2'"
   ]
  },
  {
   "cell_type": "code",
   "execution_count": 7,
   "id": "7416a76d",
   "metadata": {},
   "outputs": [
    {
     "name": "stdout",
     "output_type": "stream",
     "text": [
      "\n",
      "Dimension = 4\n",
      "Coordinates = t,r,theta,phi\n",
      "Metric defined successfully: \n",
      "\n"
     ]
    },
    {
     "data": {
      "text/latex": [
       "$\\displaystyle ds^2 = -1 \\cdot dt^2+a^{2}{\\left(t \\right)} \\cdot dr^2+r^{2} a^{2}{\\left(t \\right)} \\cdot d\\theta^2+r^{2} a^{2}{\\left(t \\right)} \\sin^{2}{\\left(\\theta \\right)} \\cdot d\\phi^2$"
      ],
      "text/plain": [
       "<IPython.core.display.Math object>"
      ]
     },
     "metadata": {},
     "output_type": "display_data"
    },
    {
     "data": {
      "text/latex": [
       "$\\displaystyle \\left[\\begin{matrix}-1 & 0 & 0 & 0\\\\0 & a^{2}{\\left(t \\right)} & 0 & 0\\\\0 & 0 & r^{2} a^{2}{\\left(t \\right)} & 0\\\\0 & 0 & 0 & r^{2} a^{2}{\\left(t \\right)} \\sin^{2}{\\left(\\theta \\right)}\\end{matrix}\\right]$"
      ],
      "text/plain": [
       "⎡-1    0       0             0        ⎤\n",
       "⎢                                     ⎥\n",
       "⎢     2                               ⎥\n",
       "⎢0   a (t)     0             0        ⎥\n",
       "⎢                                     ⎥\n",
       "⎢            2  2                     ⎥\n",
       "⎢0     0    r ⋅a (t)         0        ⎥\n",
       "⎢                                     ⎥\n",
       "⎢                      2  2       2   ⎥\n",
       "⎣0     0       0      r ⋅a (t)⋅sin (θ)⎦"
      ]
     },
     "metadata": {},
     "output_type": "display_data"
    }
   ],
   "source": [
    "g=pt.metric(ds)"
   ]
  },
  {
   "cell_type": "code",
   "execution_count": 8,
   "id": "55d13d9c",
   "metadata": {},
   "outputs": [],
   "source": [
    "#Condición de Métrica Diagonal\n",
    "C2 = 0\n",
    "C3 = 0\n",
    "C6 = 0"
   ]
  },
  {
   "cell_type": "code",
   "execution_count": 9,
   "id": "d1fd11d9",
   "metadata": {},
   "outputs": [],
   "source": [
    "#g.tensor[0][2][2]"
   ]
  },
  {
   "cell_type": "code",
   "execution_count": 10,
   "id": "be258d9b",
   "metadata": {},
   "outputs": [
    {
     "name": "stdout",
     "output_type": "stream",
     "text": [
      "1\n",
      "Abs(a(t))\n",
      "Abs(r*a(t))\n"
     ]
    }
   ],
   "source": [
    "C1 = sp.simplify(sp.sqrt(-1*g.tensor[0][0][0]))\n",
    "C4 = sp.simplify(sp.sqrt(g.tensor[0][1][1]))\n",
    "C5 = sp.simplify(sp.sqrt(g.tensor[0][2][2]))\n",
    "print(C1)\n",
    "print(C4)\n",
    "print(C5)\n",
    "#C5 = Y"
   ]
  },
  {
   "cell_type": "code",
   "execution_count": 11,
   "id": "09287266",
   "metadata": {},
   "outputs": [],
   "source": [
    "C1 = 1\n",
    "C2 = 0\n",
    "C3 = 0\n",
    "C4 = a\n",
    "C5 = a*r\n",
    "C6 = 0"
   ]
  },
  {
   "cell_type": "code",
   "execution_count": 12,
   "id": "cfeb0bb7",
   "metadata": {},
   "outputs": [
    {
     "name": "stdout",
     "output_type": "stream",
     "text": [
      "Elements assigned correctly to the ^A,_mu components\n"
     ]
    },
    {
     "data": {
      "text/latex": [
       "$\\displaystyle \\left[\\begin{matrix}1 & 0 & 0 & 0\\\\0 & a{\\left(t \\right)} \\sin{\\left(\\theta \\right)} \\cos{\\left(\\phi \\right)} & r a{\\left(t \\right)} \\cos{\\left(\\phi \\right)} \\cos{\\left(\\theta \\right)} & - r a{\\left(t \\right)} \\sin{\\left(\\phi \\right)} \\sin{\\left(\\theta \\right)}\\\\0 & a{\\left(t \\right)} \\sin{\\left(\\phi \\right)} \\sin{\\left(\\theta \\right)} & r a{\\left(t \\right)} \\sin{\\left(\\phi \\right)} \\cos{\\left(\\theta \\right)} & r a{\\left(t \\right)} \\sin{\\left(\\theta \\right)} \\cos{\\left(\\phi \\right)}\\\\0 & a{\\left(t \\right)} \\cos{\\left(\\theta \\right)} & - r a{\\left(t \\right)} \\sin{\\left(\\theta \\right)} & 0\\end{matrix}\\right]$"
      ],
      "text/plain": [
       "⎡1          0                    0                      0          ⎤\n",
       "⎢                                                                  ⎥\n",
       "⎢0  a(t)⋅sin(θ)⋅cos(φ)  r⋅a(t)⋅cos(φ)⋅cos(θ)  -r⋅a(t)⋅sin(φ)⋅sin(θ)⎥\n",
       "⎢                                                                  ⎥\n",
       "⎢0  a(t)⋅sin(φ)⋅sin(θ)  r⋅a(t)⋅sin(φ)⋅cos(θ)  r⋅a(t)⋅sin(θ)⋅cos(φ) ⎥\n",
       "⎢                                                                  ⎥\n",
       "⎣0     a(t)⋅cos(θ)         -r⋅a(t)⋅sin(θ)               0          ⎦"
      ]
     },
     "metadata": {},
     "output_type": "display_data"
    }
   ],
   "source": [
    "e=pt.ten('e',2)\n",
    "e.assign([[C1,C2,0,0],[C3*sp.sin(theta)*sp.cos(phi),C4*sp.sin(theta)*sp.cos(phi),C5*sp.cos(theta)*sp.cos(phi)-C6*sp.sin(phi),-sp.sin(theta)*(C5*sp.sin(phi)+C6*sp.cos(theta)*sp.cos(phi))],\n",
    "        [C3*sp.sin(theta)*sp.sin(phi),C4*sp.sin(theta)*sp.sin(phi),C5*sp.cos(theta)*sp.sin(phi)+C6*sp.cos(phi),sp.sin(theta)*(C5*sp.cos(phi)-C6*sp.cos(theta)*sp.sin(phi))],\n",
    "        [C3*sp.cos(theta),C4*sp.cos(theta),-C5*sp.sin(theta),C6*sp.sin(theta)**2]],'^A,_mu')\n",
    "\n",
    "e.display('^,_')"
   ]
  },
  {
   "cell_type": "code",
   "execution_count": 13,
   "id": "e5e793bc",
   "metadata": {},
   "outputs": [
    {
     "name": "stdout",
     "output_type": "stream",
     "text": [
      "Elements assigned correctly to the ^mu,_A components\n"
     ]
    },
    {
     "data": {
      "text/latex": [
       "$\\displaystyle \\left[\\begin{matrix}1 & 0 & 0 & 0\\\\0 & \\frac{\\sin{\\left(\\theta \\right)} \\cos{\\left(\\phi \\right)}}{a{\\left(t \\right)}} & \\frac{\\sin{\\left(\\phi \\right)} \\sin{\\left(\\theta \\right)}}{a{\\left(t \\right)}} & \\frac{\\cos{\\left(\\theta \\right)}}{a{\\left(t \\right)}}\\\\0 & \\frac{\\cos{\\left(\\phi \\right)} \\cos{\\left(\\theta \\right)}}{r a{\\left(t \\right)}} & \\frac{\\sin{\\left(\\phi \\right)} \\cos{\\left(\\theta \\right)}}{r a{\\left(t \\right)}} & - \\frac{\\sin{\\left(\\theta \\right)}}{r a{\\left(t \\right)}}\\\\0 & - \\frac{\\sin{\\left(\\phi \\right)}}{r a{\\left(t \\right)} \\sin{\\left(\\theta \\right)}} & \\frac{\\cos{\\left(\\phi \\right)}}{r a{\\left(t \\right)} \\sin{\\left(\\theta \\right)}} & 0\\end{matrix}\\right]$"
      ],
      "text/plain": [
       "⎡1        0              0           0    ⎤\n",
       "⎢                                         ⎥\n",
       "⎢   sin(θ)⋅cos(φ)  sin(φ)⋅sin(θ)   cos(θ) ⎥\n",
       "⎢0  ─────────────  ─────────────   ────── ⎥\n",
       "⎢        a(t)           a(t)        a(t)  ⎥\n",
       "⎢                                         ⎥\n",
       "⎢   cos(φ)⋅cos(θ)  sin(φ)⋅cos(θ)  -sin(θ) ⎥\n",
       "⎢0  ─────────────  ─────────────  ────────⎥\n",
       "⎢       r⋅a(t)         r⋅a(t)      r⋅a(t) ⎥\n",
       "⎢                                         ⎥\n",
       "⎢      -sin(φ)         cos(φ)             ⎥\n",
       "⎢0  ─────────────  ─────────────     0    ⎥\n",
       "⎣   r⋅a(t)⋅sin(θ)  r⋅a(t)⋅sin(θ)          ⎦"
      ]
     },
     "metadata": {},
     "output_type": "display_data"
    }
   ],
   "source": [
    "M = Matrix(e.tensor[2])\n",
    "M_inverse = M.inv()\n",
    "M_lol=M_inverse.tolist()\n",
    "E=pt.ten('E',2)\n",
    "E.assign(M_lol,'^mu,_A')\n",
    "E.simplify()\n",
    "E.display('^,_')"
   ]
  },
  {
   "cell_type": "code",
   "execution_count": 14,
   "id": "934f309a",
   "metadata": {},
   "outputs": [],
   "source": [
    "d = Matrix(e.tensor[2])\n",
    "det = d.det()\n",
    "dett = sp.simplify(det)"
   ]
  },
  {
   "cell_type": "code",
   "execution_count": 15,
   "id": "aa460538",
   "metadata": {},
   "outputs": [
    {
     "name": "stdout",
     "output_type": "stream",
     "text": [
      "Elements assigned correctly to the _A,_B components\n"
     ]
    },
    {
     "data": {
      "text/latex": [
       "$\\displaystyle \\left[\\begin{matrix}-1 & 0 & 0 & 0\\\\0 & 1 & 0 & 0\\\\0 & 0 & 1 & 0\\\\0 & 0 & 0 & 1\\end{matrix}\\right]$"
      ],
      "text/plain": [
       "⎡-1  0  0  0⎤\n",
       "⎢           ⎥\n",
       "⎢0   1  0  0⎥\n",
       "⎢           ⎥\n",
       "⎢0   0  1  0⎥\n",
       "⎢           ⎥\n",
       "⎣0   0  0  1⎦"
      ]
     },
     "metadata": {},
     "output_type": "display_data"
    }
   ],
   "source": [
    "eta=pt.ten('eta',2)\n",
    "eta.assign([[-1,0,0,0],[0,1,0,0],[0,0,1,0],[0,0,0,1]],'_A,_B')\n",
    "eta.display('_,_')"
   ]
  },
  {
   "cell_type": "code",
   "execution_count": 16,
   "id": "e57edca6",
   "metadata": {},
   "outputs": [
    {
     "name": "stdout",
     "output_type": "stream",
     "text": [
      "Elements assigned correctly to the ^A,^B components\n"
     ]
    },
    {
     "data": {
      "text/latex": [
       "$\\displaystyle \\left[\\begin{matrix}-1 & 0 & 0 & 0\\\\0 & 1 & 0 & 0\\\\0 & 0 & 1 & 0\\\\0 & 0 & 0 & 1\\end{matrix}\\right]$"
      ],
      "text/plain": [
       "⎡-1  0  0  0⎤\n",
       "⎢           ⎥\n",
       "⎢0   1  0  0⎥\n",
       "⎢           ⎥\n",
       "⎢0   0  1  0⎥\n",
       "⎢           ⎥\n",
       "⎣0   0  0  1⎦"
      ]
     },
     "metadata": {},
     "output_type": "display_data"
    }
   ],
   "source": [
    "M1 = Matrix(eta.tensor[0])\n",
    "M1_inverse = M1.inv()\n",
    "M1_lol=M1_inverse.tolist()\n",
    "etainv=pt.ten('etainv',2)\n",
    "etainv.assign(M1_lol,'^A,^B')\n",
    "etainv.display('^,^')"
   ]
  },
  {
   "cell_type": "code",
   "execution_count": 17,
   "id": "8659132f",
   "metadata": {},
   "outputs": [
    {
     "name": "stdout",
     "output_type": "stream",
     "text": [
      "Elements assigned correctly to the _mu,_nu components\n"
     ]
    },
    {
     "data": {
      "text/latex": [
       "$\\displaystyle \\left[\\begin{matrix}-1 & 0 & 0 & 0\\\\0 & a^{2}{\\left(t \\right)} & 0 & 0\\\\0 & 0 & r^{2} a^{2}{\\left(t \\right)} & 0\\\\0 & 0 & 0 & r^{2} a^{2}{\\left(t \\right)} \\sin^{2}{\\left(\\theta \\right)}\\end{matrix}\\right]$"
      ],
      "text/plain": [
       "⎡-1    0       0             0        ⎤\n",
       "⎢                                     ⎥\n",
       "⎢     2                               ⎥\n",
       "⎢0   a (t)     0             0        ⎥\n",
       "⎢                                     ⎥\n",
       "⎢            2  2                     ⎥\n",
       "⎢0     0    r ⋅a (t)         0        ⎥\n",
       "⎢                                     ⎥\n",
       "⎢                      2  2       2   ⎥\n",
       "⎣0     0       0      r ⋅a (t)⋅sin (θ)⎦"
      ]
     },
     "metadata": {},
     "output_type": "display_data"
    }
   ],
   "source": [
    "ge = pt.ten('ge',2)\n",
    "val1 = eta(\"_A,_B\")*e(\"^A,_mu\")*e(\"^B,_nu\")\n",
    "ge.assign(val1,\"_mu,_nu\")\n",
    "ge.simplify()\n",
    "ge.display('_,_')"
   ]
  },
  {
   "cell_type": "code",
   "execution_count": 18,
   "id": "cdeedbe1",
   "metadata": {},
   "outputs": [
    {
     "name": "stdout",
     "output_type": "stream",
     "text": [
      "Elements assigned correctly to the ^mu,^nu components\n"
     ]
    },
    {
     "data": {
      "text/latex": [
       "$\\displaystyle \\left[\\begin{matrix}-1 & 0 & 0 & 0\\\\0 & \\frac{1}{a^{2}{\\left(t \\right)}} & 0 & 0\\\\0 & 0 & \\frac{1}{r^{2} a^{2}{\\left(t \\right)}} & 0\\\\0 & 0 & 0 & \\frac{1}{r^{2} a^{2}{\\left(t \\right)} \\sin^{2}{\\left(\\theta \\right)}}\\end{matrix}\\right]$"
      ],
      "text/plain": [
       "⎡-1    0       0             0        ⎤\n",
       "⎢                                     ⎥\n",
       "⎢      1                              ⎥\n",
       "⎢0   ─────     0             0        ⎥\n",
       "⎢     2                               ⎥\n",
       "⎢    a (t)                            ⎥\n",
       "⎢                                     ⎥\n",
       "⎢              1                      ⎥\n",
       "⎢0     0    ────────         0        ⎥\n",
       "⎢            2  2                     ⎥\n",
       "⎢           r ⋅a (t)                  ⎥\n",
       "⎢                                     ⎥\n",
       "⎢                            1        ⎥\n",
       "⎢0     0       0      ────────────────⎥\n",
       "⎢                      2  2       2   ⎥\n",
       "⎣                     r ⋅a (t)⋅sin (θ)⎦"
      ]
     },
     "metadata": {},
     "output_type": "display_data"
    }
   ],
   "source": [
    "geinv = pt.ten('geinv',2)\n",
    "val2 = etainv(\"^A,^B\")*E(\"^mu,_A\")*E(\"^nu,_B\")\n",
    "geinv.assign(val2,\"^mu,^nu\")\n",
    "geinv.simplify()\n",
    "geinv.display('^,^')"
   ]
  },
  {
   "cell_type": "code",
   "execution_count": 19,
   "id": "1fa138c1",
   "metadata": {},
   "outputs": [
    {
     "name": "stdout",
     "output_type": "stream",
     "text": [
      "Elements assigned correctly to the ^A,_mu,_nu components\n"
     ]
    }
   ],
   "source": [
    "torsion = pt.ten('torsion',3)\n",
    "val3 = pt.D(e('^A,_nu'),'_mu')-pt.D(e('^A,_mu'),'_nu')\n",
    "torsion.assign(val3, \"^A,_mu,_nu\")\n",
    "torsion.simplify()\n",
    "#torsion.display('^,_,_')"
   ]
  },
  {
   "cell_type": "code",
   "execution_count": 20,
   "id": "6e5b12cf",
   "metadata": {
    "scrolled": false
   },
   "outputs": [
    {
     "name": "stdout",
     "output_type": "stream",
     "text": [
      "Elements assigned correctly to the ^alpha,_mu,_nu components\n"
     ]
    },
    {
     "data": {
      "application/vnd.jupyter.widget-view+json": {
       "model_id": "983379173acc49d5ab05daa0e86c47aa",
       "version_major": 2,
       "version_minor": 0
      },
      "text/plain": [
       "torsiongreek Tensor $torsiongreek{_\\alpha}{_\\beta}{_\\gamma}$:   0%|          | 0/64 [00:00<?, ?it/s]"
      ]
     },
     "metadata": {},
     "output_type": "display_data"
    },
    {
     "data": {
      "application/vnd.jupyter.widget-view+json": {
       "model_id": "d06a899aaa164e448620403f43709d9a",
       "version_major": 2,
       "version_minor": 0
      },
      "text/plain": [
       "torsiongreek Tensor $torsiongreek{^\\alpha}{^\\beta}{_\\gamma}$:   0%|          | 0/64 [00:00<?, ?it/s]"
      ]
     },
     "metadata": {},
     "output_type": "display_data"
    },
    {
     "data": {
      "application/vnd.jupyter.widget-view+json": {
       "model_id": "df4f8da0df3046889240789a29f21b50",
       "version_major": 2,
       "version_minor": 0
      },
      "text/plain": [
       "torsiongreek Tensor $torsiongreek{^\\alpha}{^\\beta}{^\\gamma}$:   0%|          | 0/64 [00:00<?, ?it/s]"
      ]
     },
     "metadata": {},
     "output_type": "display_data"
    },
    {
     "data": {
      "application/vnd.jupyter.widget-view+json": {
       "model_id": "5755687016ea47668e4aa7f77f0cb16c",
       "version_major": 2,
       "version_minor": 0
      },
      "text/plain": [
       "torsiongreek Tensor $torsiongreek{^\\alpha}{_\\beta}{^\\gamma}$:   0%|          | 0/64 [00:00<?, ?it/s]"
      ]
     },
     "metadata": {},
     "output_type": "display_data"
    },
    {
     "data": {
      "application/vnd.jupyter.widget-view+json": {
       "model_id": "ea48f1efffa94e96bef16b603f52bd71",
       "version_major": 2,
       "version_minor": 0
      },
      "text/plain": [
       "torsiongreek Tensor $torsiongreek{_\\alpha}{^\\beta}{_\\gamma}$:   0%|          | 0/64 [00:00<?, ?it/s]"
      ]
     },
     "metadata": {},
     "output_type": "display_data"
    },
    {
     "data": {
      "application/vnd.jupyter.widget-view+json": {
       "model_id": "d83bcc6f91e24394af5c5d4614738e12",
       "version_major": 2,
       "version_minor": 0
      },
      "text/plain": [
       "torsiongreek Tensor $torsiongreek{_\\alpha}{^\\beta}{^\\gamma}$:   0%|          | 0/64 [00:00<?, ?it/s]"
      ]
     },
     "metadata": {},
     "output_type": "display_data"
    },
    {
     "data": {
      "application/vnd.jupyter.widget-view+json": {
       "model_id": "d0c4ba552be847b2ad67ee18beee0188",
       "version_major": 2,
       "version_minor": 0
      },
      "text/plain": [
       "torsiongreek Tensor $torsiongreek{_\\alpha}{_\\beta}{^\\gamma}$:   0%|          | 0/64 [00:00<?, ?it/s]"
      ]
     },
     "metadata": {},
     "output_type": "display_data"
    },
    {
     "data": {
      "text/latex": [
       "All other indices of torsiongreek Tensor $torsiongreek$  already calculated."
      ],
      "text/plain": [
       "<IPython.core.display.Latex object>"
      ]
     },
     "metadata": {},
     "output_type": "display_data"
    }
   ],
   "source": [
    "torsiongreek = pt.ten('torsiongreek',3)\n",
    "val4 = torsion(\"^A,_mu,_nu\")*E(\"^alpha,_A\")\n",
    "torsiongreek.assign(val4, \"^alpha,_mu,_nu\")\n",
    "torsiongreek.simplify()\n",
    "torsiongreek.complete('^,_,_')\n",
    "#torsiongreek.display('^,^,_')\n",
    "#print(\"\\n\\n\")\n",
    "#torsiongreek.display('^,_,^')\n",
    "#print(\"\\n\\n\")\n",
    "#torsiongreek.display('_,^,^')\n",
    "#print(\"\\n\\n\")\n",
    "#torsiongreek.display('_,^,_')\n",
    "#print(\"\\n\\n\")\n",
    "#torsiongreek.display('^,^,^')\n",
    "#print(\"\\n\\n\")\n",
    "#torsiongreek.display('_,_,_')\n",
    "#print(\"\\n\\n\")\n",
    "#torsiongreek.display('^,_,_')\n",
    "#print(\"\\n\\n\")\n",
    "#torsiongreek.display('_,_,^')"
   ]
  },
  {
   "cell_type": "code",
   "execution_count": 21,
   "id": "c3065956",
   "metadata": {
    "scrolled": false
   },
   "outputs": [
    {
     "name": "stdout",
     "output_type": "stream",
     "text": [
      "Elements assigned correctly to the ^nu,_rho,_mu components\n"
     ]
    },
    {
     "data": {
      "application/vnd.jupyter.widget-view+json": {
       "model_id": "9652a62ceb9644709b8e3a308f89a5de",
       "version_major": 2,
       "version_minor": 0
      },
      "text/plain": [
       "contorsiongreeknew Tensor $contorsiongreeknew{_\\alpha}{_\\beta}{_\\gamma}$:   0%|          | 0/64 [00:00<?, ?it/…"
      ]
     },
     "metadata": {},
     "output_type": "display_data"
    },
    {
     "data": {
      "application/vnd.jupyter.widget-view+json": {
       "model_id": "9883f738920347ce945098b3dd8d739e",
       "version_major": 2,
       "version_minor": 0
      },
      "text/plain": [
       "contorsiongreeknew Tensor $contorsiongreeknew{^\\alpha}{^\\beta}{_\\gamma}$:   0%|          | 0/64 [00:00<?, ?it/…"
      ]
     },
     "metadata": {},
     "output_type": "display_data"
    },
    {
     "data": {
      "application/vnd.jupyter.widget-view+json": {
       "model_id": "c3a222b30ec04006bb8cf5e5bb28c5f4",
       "version_major": 2,
       "version_minor": 0
      },
      "text/plain": [
       "contorsiongreeknew Tensor $contorsiongreeknew{^\\alpha}{^\\beta}{^\\gamma}$:   0%|          | 0/64 [00:00<?, ?it/…"
      ]
     },
     "metadata": {},
     "output_type": "display_data"
    },
    {
     "data": {
      "application/vnd.jupyter.widget-view+json": {
       "model_id": "60ada83707284e30b950c7e7edae1731",
       "version_major": 2,
       "version_minor": 0
      },
      "text/plain": [
       "contorsiongreeknew Tensor $contorsiongreeknew{^\\alpha}{_\\beta}{^\\gamma}$:   0%|          | 0/64 [00:00<?, ?it/…"
      ]
     },
     "metadata": {},
     "output_type": "display_data"
    },
    {
     "data": {
      "application/vnd.jupyter.widget-view+json": {
       "model_id": "ce8f8a983a1546eaabed9f34b22b523e",
       "version_major": 2,
       "version_minor": 0
      },
      "text/plain": [
       "contorsiongreeknew Tensor $contorsiongreeknew{_\\alpha}{^\\beta}{_\\gamma}$:   0%|          | 0/64 [00:00<?, ?it/…"
      ]
     },
     "metadata": {},
     "output_type": "display_data"
    },
    {
     "data": {
      "application/vnd.jupyter.widget-view+json": {
       "model_id": "7b3378bdb95243f289bc8635dadca589",
       "version_major": 2,
       "version_minor": 0
      },
      "text/plain": [
       "contorsiongreeknew Tensor $contorsiongreeknew{_\\alpha}{^\\beta}{^\\gamma}$:   0%|          | 0/64 [00:00<?, ?it/…"
      ]
     },
     "metadata": {},
     "output_type": "display_data"
    },
    {
     "data": {
      "application/vnd.jupyter.widget-view+json": {
       "model_id": "ec780620c7554f3e8cf4f24d8117a908",
       "version_major": 2,
       "version_minor": 0
      },
      "text/plain": [
       "contorsiongreeknew Tensor $contorsiongreeknew{_\\alpha}{_\\beta}{^\\gamma}$:   0%|          | 0/64 [00:00<?, ?it/…"
      ]
     },
     "metadata": {},
     "output_type": "display_data"
    },
    {
     "data": {
      "text/latex": [
       "All other indices of contorsiongreeknew Tensor $contorsiongreeknew$  already calculated."
      ],
      "text/plain": [
       "<IPython.core.display.Latex object>"
      ]
     },
     "metadata": {},
     "output_type": "display_data"
    }
   ],
   "source": [
    "#el contorsion greek original era escrito con latinos, este fue hecho totalmente con griegos\n",
    "contorsiongreeknew = pt.ten('contorsiongreeknew',3)\n",
    "val6 = 1/2*(torsiongreek(\"_rho,^nu,_mu\")+torsiongreek(\"_mu,^nu,_rho\")-torsiongreek(\"^nu,_rho,_mu\"))\n",
    "contorsiongreeknew.assign(val6, \"^nu,_rho,_mu\")\n",
    "contorsiongreeknew.simplify()\n",
    "contorsiongreeknew.complete('^,_,_')\n",
    "#contorsiongreeknew.display('^,^,_')\n",
    "#print('\\n\\n')\n",
    "#contorsiongreeknew.display('^,_,^')\n",
    "#print('\\n\\n')\n",
    "#contorsiongreeknew.display('^,^,^')\n",
    "#print('\\n\\n')\n",
    "#contorsiongreeknew.display('_,_,_')\n",
    "#print('\\n\\n')\n",
    "#contorsiongreeknew.display('_,_,^')\n",
    "#print('\\n\\n')\n",
    "#contorsiongreeknew.display('_,^,^')\n",
    "#print('\\n\\n')\n",
    "#contorsiongreeknew.display('_,_,_')\n",
    "#print('\\n\\n')\n",
    "#contorsiongreeknew.display('_,^,_')\n",
    "#print('\\n\\n')\n",
    "#contorsiongreeknew.display('^,_,_')"
   ]
  },
  {
   "cell_type": "code",
   "execution_count": 22,
   "id": "4a25437d",
   "metadata": {
    "scrolled": false
   },
   "outputs": [
    {
     "name": "stdout",
     "output_type": "stream",
     "text": [
      "Elements assigned correctly to the _rho,^mu,^nu components\n"
     ]
    },
    {
     "data": {
      "application/vnd.jupyter.widget-view+json": {
       "model_id": "0d209bf2cf4149fdac62f0d1210e6675",
       "version_major": 2,
       "version_minor": 0
      },
      "text/plain": [
       "superpotential Tensor $superpotential{_\\alpha}{_\\beta}{^\\gamma}$:   0%|          | 0/64 [00:00<?, ?it/s]"
      ]
     },
     "metadata": {},
     "output_type": "display_data"
    },
    {
     "data": {
      "application/vnd.jupyter.widget-view+json": {
       "model_id": "870bb4035eb74e94a62cd37f8f138098",
       "version_major": 2,
       "version_minor": 0
      },
      "text/plain": [
       "superpotential Tensor $superpotential{_\\alpha}{_\\beta}{_\\gamma}$:   0%|          | 0/64 [00:00<?, ?it/s]"
      ]
     },
     "metadata": {},
     "output_type": "display_data"
    },
    {
     "data": {
      "application/vnd.jupyter.widget-view+json": {
       "model_id": "2f474333be784b3db919726606d9fd56",
       "version_major": 2,
       "version_minor": 0
      },
      "text/plain": [
       "superpotential Tensor $superpotential{^\\alpha}{_\\beta}{_\\gamma}$:   0%|          | 0/64 [00:00<?, ?it/s]"
      ]
     },
     "metadata": {},
     "output_type": "display_data"
    },
    {
     "data": {
      "application/vnd.jupyter.widget-view+json": {
       "model_id": "0a11e87c398c4264b2bd2ca988c1f27e",
       "version_major": 2,
       "version_minor": 0
      },
      "text/plain": [
       "superpotential Tensor $superpotential{^\\alpha}{^\\beta}{_\\gamma}$:   0%|          | 0/64 [00:00<?, ?it/s]"
      ]
     },
     "metadata": {},
     "output_type": "display_data"
    },
    {
     "data": {
      "application/vnd.jupyter.widget-view+json": {
       "model_id": "a769a2b35dd646cbab20223b987b749f",
       "version_major": 2,
       "version_minor": 0
      },
      "text/plain": [
       "superpotential Tensor $superpotential{^\\alpha}{^\\beta}{^\\gamma}$:   0%|          | 0/64 [00:00<?, ?it/s]"
      ]
     },
     "metadata": {},
     "output_type": "display_data"
    },
    {
     "data": {
      "application/vnd.jupyter.widget-view+json": {
       "model_id": "dc063778e5614eb49b9da646b58d64b7",
       "version_major": 2,
       "version_minor": 0
      },
      "text/plain": [
       "superpotential Tensor $superpotential{^\\alpha}{_\\beta}{^\\gamma}$:   0%|          | 0/64 [00:00<?, ?it/s]"
      ]
     },
     "metadata": {},
     "output_type": "display_data"
    },
    {
     "data": {
      "application/vnd.jupyter.widget-view+json": {
       "model_id": "75f436a587134f41ac20bebf5d76ddbc",
       "version_major": 2,
       "version_minor": 0
      },
      "text/plain": [
       "superpotential Tensor $superpotential{_\\alpha}{^\\beta}{_\\gamma}$:   0%|          | 0/64 [00:00<?, ?it/s]"
      ]
     },
     "metadata": {},
     "output_type": "display_data"
    },
    {
     "data": {
      "text/latex": [
       "All other indices of superpotential Tensor $superpotential$  already calculated."
      ],
      "text/plain": [
       "<IPython.core.display.Latex object>"
      ]
     },
     "metadata": {},
     "output_type": "display_data"
    }
   ],
   "source": [
    "superpotential = pt.ten('superpotential',3)\n",
    "valchido = 1/2*contorsiongreeknew(\"^mu,^nu,_rho\")-1/2*KD(\"^mu,_rho\")*torsiongreek(\"_sigma,^sigma,^nu\")+1/2*KD(\"^nu,_rho\")*torsiongreek(\"_sigma,^sigma,^mu\")\n",
    "superpotential.assign(valchido, \"_rho,^mu,^nu\")\n",
    "superpotential.simplify()\n",
    "superpotential.complete('_,^,^')\n",
    "#print(\"\\n\\n\")\n",
    "#superpotential.display('_,^,^')\n",
    "#print(\"\\n\\n\")\n",
    "#superpotential.display('^,^,_')\n",
    "#print(\"\\n\\n\")\n",
    "#superpotential.display('^,_,_')\n",
    "#print(\"\\n\\n\")\n",
    "#superpotential.display('_,_,^')\n",
    "#print(\"\\n\\n\")\n",
    "#superpotential.display('^,^,^')\n",
    "#print(\"\\n\\n\")\n",
    "#superpotential.display('^,_,^')\n",
    "#print(\"\\n\\n\")\n",
    "#superpotential.display('_,^,_')\n",
    "#print(\"\\n\\n\")\n",
    "#superpotential.display('_,_,_')"
   ]
  },
  {
   "cell_type": "code",
   "execution_count": 23,
   "id": "08b88c93",
   "metadata": {},
   "outputs": [
    {
     "data": {
      "text/latex": [
       "$\\displaystyle \\frac{6.0 \\left(\\frac{d}{d t} a{\\left(t \\right)}\\right)^{2}}{a^{2}{\\left(t \\right)}}$"
      ],
      "text/plain": [
       "              2\n",
       "    ⎛d       ⎞ \n",
       "6.0⋅⎜──(a(t))⎟ \n",
       "    ⎝dt      ⎠ \n",
       "───────────────\n",
       "      2        \n",
       "     a (t)     "
      ]
     },
     "execution_count": 23,
     "metadata": {},
     "output_type": "execute_result"
    }
   ],
   "source": [
    "torsionscalar=sp.simplify(superpotential(\"^mu,^beta,^gamma\")*torsiongreek(\"^alpha,_beta,_gamma\")*ge(\"_alpha,_mu\"))\n",
    "torsionscalar"
   ]
  },
  {
   "cell_type": "code",
   "execution_count": 24,
   "id": "80caa0a5",
   "metadata": {},
   "outputs": [
    {
     "data": {
      "text/latex": [
       "$\\displaystyle \\frac{6.0 \\left(\\frac{d}{d t} a{\\left(t \\right)}\\right)^{2}}{a^{2}{\\left(t \\right)}}$"
      ],
      "text/plain": [
       "              2\n",
       "    ⎛d       ⎞ \n",
       "6.0⋅⎜──(a(t))⎟ \n",
       "    ⎝dt      ⎠ \n",
       "───────────────\n",
       "      2        \n",
       "     a (t)     "
      ]
     },
     "execution_count": 24,
     "metadata": {},
     "output_type": "execute_result"
    }
   ],
   "source": [
    "tscal=sp.simplify(superpotential(\"_rho,^sigma,^mu\")*torsiongreek(\"^rho,_sigma,_mu\"))\n",
    "tscal"
   ]
  },
  {
   "cell_type": "code",
   "execution_count": 25,
   "id": "4c898e9c",
   "metadata": {},
   "outputs": [
    {
     "data": {
      "text/latex": [
       "$\\displaystyle \\frac{6.0 \\left(\\frac{d}{d t} a{\\left(t \\right)}\\right)^{2}}{a^{2}{\\left(t \\right)}}$"
      ],
      "text/plain": [
       "              2\n",
       "    ⎛d       ⎞ \n",
       "6.0⋅⎜──(a(t))⎟ \n",
       "    ⎝dt      ⎠ \n",
       "───────────────\n",
       "      2        \n",
       "     a (t)     "
      ]
     },
     "execution_count": 25,
     "metadata": {},
     "output_type": "execute_result"
    }
   ],
   "source": [
    "tscalar1=sp.simplify((torsiongreek(\"^mu,_sigma,_alpha\")*g(\"^sigma,^nu\")*g(\"^alpha,^rho\"))*(torsiongreek(\"^beta,_nu,_rho\")*g(\"_beta,_mu\")))\n",
    "tscalar2=sp.simplify((torsiongreek(\"^mu,_sigma,_alpha\")*g(\"^sigma,^nu\")*g(\"^alpha,^rho\"))*(torsiongreek(\"^beta,_nu,_mu\")*g(\"_beta,_rho\")))\n",
    "tscalar3=sp.simplify((torsiongreek(\"^mu,_mu,_rho\"))*(torsiongreek(\"^beta,_sigma,_alpha\")*g(\"_beta,_nu\")*g(\"^sigma,^nu\")*g(\"^alpha,^rho\")))\n",
    "scalarchido = sp.simplify(1/4*tscalar1+1/2*tscalar2-tscalar3)\n",
    "scalarchido"
   ]
  },
  {
   "cell_type": "code",
   "execution_count": 26,
   "id": "b3eb80eb",
   "metadata": {},
   "outputs": [
    {
     "name": "stdout",
     "output_type": "stream",
     "text": [
      "Elements assigned correctly to the ^ components\n"
     ]
    },
    {
     "data": {
      "text/latex": [
       "$\\displaystyle \\left[\\begin{matrix}1\\\\0\\\\0\\\\0\\end{matrix}\\right]$"
      ],
      "text/plain": [
       "⎡1⎤\n",
       "⎢ ⎥\n",
       "⎢0⎥\n",
       "⎢ ⎥\n",
       "⎢0⎥\n",
       "⎢ ⎥\n",
       "⎣0⎦"
      ]
     },
     "metadata": {},
     "output_type": "display_data"
    }
   ],
   "source": [
    "U=pt.ten('U',1)\n",
    "U.assign([1,0,0,0],'^')\n",
    "U.display('^')"
   ]
  },
  {
   "cell_type": "code",
   "execution_count": 37,
   "id": "6739f33f",
   "metadata": {},
   "outputs": [
    {
     "name": "stdout",
     "output_type": "stream",
     "text": [
      "Function rho(t) is already defined\n",
      "Function P(t) is already defined\n",
      "Elements assigned correctly to the ^mu,^nu components\n"
     ]
    },
    {
     "data": {
      "application/vnd.jupyter.widget-view+json": {
       "model_id": "efc3eadb4d184998bc894efee428435e",
       "version_major": 2,
       "version_minor": 0
      },
      "text/plain": [
       "Theta Tensor $Theta{_\\alpha}{^\\beta}$:   0%|          | 0/16 [00:00<?, ?it/s]"
      ]
     },
     "metadata": {},
     "output_type": "display_data"
    },
    {
     "data": {
      "application/vnd.jupyter.widget-view+json": {
       "model_id": "4bc348eb63c84caf877f9d23bcdcd99b",
       "version_major": 2,
       "version_minor": 0
      },
      "text/plain": [
       "Theta Tensor $Theta{_\\alpha}{_\\beta}$:   0%|          | 0/16 [00:00<?, ?it/s]"
      ]
     },
     "metadata": {},
     "output_type": "display_data"
    },
    {
     "data": {
      "application/vnd.jupyter.widget-view+json": {
       "model_id": "198612628cd0489c96431e451e5a9b6e",
       "version_major": 2,
       "version_minor": 0
      },
      "text/plain": [
       "Theta Tensor $Theta{^\\alpha}{_\\beta}$:   0%|          | 0/16 [00:00<?, ?it/s]"
      ]
     },
     "metadata": {},
     "output_type": "display_data"
    },
    {
     "data": {
      "text/latex": [
       "All other indices of Theta Tensor $Theta$  already calculated."
      ],
      "text/plain": [
       "<IPython.core.display.Latex object>"
      ]
     },
     "metadata": {},
     "output_type": "display_data"
    },
    {
     "data": {
      "text/latex": [
       "$\\displaystyle \\left[\\begin{matrix}- \\rho{\\left(t \\right)} & 0 & 0 & 0\\\\0 & P{\\left(t \\right)} & 0 & 0\\\\0 & 0 & P{\\left(t \\right)} & 0\\\\0 & 0 & 0 & P{\\left(t \\right)}\\end{matrix}\\right]$"
      ],
      "text/plain": [
       "⎡-ρ(t)   0     0     0  ⎤\n",
       "⎢                       ⎥\n",
       "⎢  0    P(t)   0     0  ⎥\n",
       "⎢                       ⎥\n",
       "⎢  0     0    P(t)   0  ⎥\n",
       "⎢                       ⎥\n",
       "⎣  0     0     0    P(t)⎦"
      ]
     },
     "metadata": {},
     "output_type": "display_data"
    }
   ],
   "source": [
    "rho = pt.fun('rho','t')\n",
    "P = pt.fun('P','t')\n",
    "Theta = pt.ten('Theta',2)\n",
    "val11 = ((rho+P)*U(\"^mu\")*U(\"^nu\")+P*g(\"^mu,^nu\"))\n",
    "Theta.assign(val11,\"^mu,^nu\")\n",
    "Theta.simplify()\n",
    "Theta.complete('^,^')\n",
    "Theta.display('_,^')\n",
    "#Theta.display('^,_')"
   ]
  },
  {
   "cell_type": "code",
   "execution_count": 38,
   "id": "181dc893",
   "metadata": {},
   "outputs": [
    {
     "data": {
      "text/latex": [
       "$\\displaystyle r^{2} a^{3}{\\left(t \\right)} \\sin{\\left(\\theta \\right)}$"
      ],
      "text/plain": [
       " 2  3          \n",
       "r ⋅a (t)⋅sin(θ)"
      ]
     },
     "execution_count": 38,
     "metadata": {},
     "output_type": "execute_result"
    }
   ],
   "source": [
    "dett = sp.simplify(det)\n",
    "dett"
   ]
  },
  {
   "cell_type": "code",
   "execution_count": 39,
   "id": "82894d74",
   "metadata": {},
   "outputs": [
    {
     "data": {
      "text/latex": [
       "Ricci Tensor $R_{\\alpha \\beta}$ already calculated"
      ],
      "text/plain": [
       "<IPython.core.display.Latex object>"
      ]
     },
     "metadata": {},
     "output_type": "display_data"
    },
    {
     "name": "stdout",
     "output_type": "stream",
     "text": [
      "\n",
      "\n",
      "\n"
     ]
    },
    {
     "data": {
      "text/latex": [
       "Ricci Scalar $R$ already calculated"
      ],
      "text/plain": [
       "<IPython.core.display.Latex object>"
      ]
     },
     "metadata": {},
     "output_type": "display_data"
    },
    {
     "data": {
      "text/latex": [
       "$\\displaystyle \\frac{3 \\left(a{\\left(t \\right)} \\frac{d^{2}}{d t^{2}} a{\\left(t \\right)} + 2 \\left(\\frac{d}{d t} a{\\left(t \\right)}\\right)^{2}\\right)}{a^{2}{\\left(t \\right)}} + \\frac{3 \\frac{d^{2}}{d t^{2}} a{\\left(t \\right)}}{a{\\left(t \\right)}}$"
      ],
      "text/plain": [
       "<IPython.core.display.Math object>"
      ]
     },
     "metadata": {},
     "output_type": "display_data"
    },
    {
     "name": "stdout",
     "output_type": "stream",
     "text": [
      "\n",
      "\n",
      "\n",
      "Boundery Term:\n"
     ]
    },
    {
     "data": {
      "text/latex": [
       "$\\displaystyle \\frac{6 \\left(a{\\left(t \\right)} \\frac{d^{2}}{d t^{2}} a{\\left(t \\right)} + 2 \\left(\\frac{d}{d t} a{\\left(t \\right)}\\right)^{2}\\right)}{a^{2}{\\left(t \\right)}}$"
      ],
      "text/plain": [
       "  ⎛       2                     2⎞\n",
       "  ⎜      d            ⎛d       ⎞ ⎟\n",
       "6⋅⎜a(t)⋅───(a(t)) + 2⋅⎜──(a(t))⎟ ⎟\n",
       "  ⎜       2           ⎝dt      ⎠ ⎟\n",
       "  ⎝     dt                       ⎠\n",
       "──────────────────────────────────\n",
       "               2                  \n",
       "              a (t)               "
      ]
     },
     "execution_count": 39,
     "metadata": {},
     "output_type": "execute_result"
    }
   ],
   "source": [
    "Ri=pt.ricci()\n",
    "print('\\n\\n')\n",
    "Ris=pt.riccis()\n",
    "pt.display(Ris)\n",
    "print('\\n\\n')\n",
    "Bterm=sp.simplify(2/dett*pt.D(dett*torsiongreek('^nu,_nu,^mu'),'_mu'))\n",
    "print('Boundery Term:')\n",
    "Bterm"
   ]
  },
  {
   "cell_type": "code",
   "execution_count": 40,
   "id": "e5d48ac4",
   "metadata": {},
   "outputs": [
    {
     "data": {
      "text/latex": [
       "$\\displaystyle 0$"
      ],
      "text/plain": [
       "0"
      ]
     },
     "execution_count": 40,
     "metadata": {},
     "output_type": "execute_result"
    }
   ],
   "source": [
    "Consistency=sp.simplify(Ris+tscal-Bterm)\n",
    "Consistency"
   ]
  },
  {
   "cell_type": "code",
   "execution_count": 41,
   "id": "81c77077",
   "metadata": {},
   "outputs": [
    {
     "name": "stdout",
     "output_type": "stream",
     "text": [
      "Elements assigned correctly to the _A,^mu components\n",
      "Elements assigned correctly to the ^sigma,_nu,_A components\n"
     ]
    },
    {
     "data": {
      "text/latex": [
       "$\\displaystyle {torsionequation}{}^{1}\\,{}_{0}\\,{}_{1}\\, = - \\frac{\\sin{\\left(\\theta \\right)} \\cos{\\left(\\phi \\right)} \\frac{d}{d t} a{\\left(t \\right)}}{a^{2}{\\left(t \\right)}}$"
      ],
      "text/plain": [
       "<IPython.core.display.Math object>"
      ]
     },
     "metadata": {},
     "output_type": "display_data"
    },
    {
     "data": {
      "text/latex": [
       "$\\displaystyle {torsionequation}{}^{1}\\,{}_{0}\\,{}_{2}\\, = - \\frac{\\sin{\\left(\\phi \\right)} \\sin{\\left(\\theta \\right)} \\frac{d}{d t} a{\\left(t \\right)}}{a^{2}{\\left(t \\right)}}$"
      ],
      "text/plain": [
       "<IPython.core.display.Math object>"
      ]
     },
     "metadata": {},
     "output_type": "display_data"
    },
    {
     "data": {
      "text/latex": [
       "$\\displaystyle {torsionequation}{}^{1}\\,{}_{0}\\,{}_{3}\\, = - \\frac{\\cos{\\left(\\theta \\right)} \\frac{d}{d t} a{\\left(t \\right)}}{a^{2}{\\left(t \\right)}}$"
      ],
      "text/plain": [
       "<IPython.core.display.Math object>"
      ]
     },
     "metadata": {},
     "output_type": "display_data"
    },
    {
     "data": {
      "text/latex": [
       "$\\displaystyle {torsionequation}{}^{1}\\,{}_{1}\\,{}_{0}\\, = \\frac{\\frac{d}{d t} a{\\left(t \\right)}}{a{\\left(t \\right)}}$"
      ],
      "text/plain": [
       "<IPython.core.display.Math object>"
      ]
     },
     "metadata": {},
     "output_type": "display_data"
    },
    {
     "data": {
      "text/latex": [
       "$\\displaystyle {torsionequation}{}^{2}\\,{}_{0}\\,{}_{1}\\, = - \\frac{\\cos{\\left(\\phi \\right)} \\cos{\\left(\\theta \\right)} \\frac{d}{d t} a{\\left(t \\right)}}{r a^{2}{\\left(t \\right)}}$"
      ],
      "text/plain": [
       "<IPython.core.display.Math object>"
      ]
     },
     "metadata": {},
     "output_type": "display_data"
    },
    {
     "data": {
      "text/latex": [
       "$\\displaystyle {torsionequation}{}^{2}\\,{}_{0}\\,{}_{2}\\, = - \\frac{\\sin{\\left(\\phi \\right)} \\cos{\\left(\\theta \\right)} \\frac{d}{d t} a{\\left(t \\right)}}{r a^{2}{\\left(t \\right)}}$"
      ],
      "text/plain": [
       "<IPython.core.display.Math object>"
      ]
     },
     "metadata": {},
     "output_type": "display_data"
    },
    {
     "data": {
      "text/latex": [
       "$\\displaystyle {torsionequation}{}^{2}\\,{}_{0}\\,{}_{3}\\, = \\frac{\\sin{\\left(\\theta \\right)} \\frac{d}{d t} a{\\left(t \\right)}}{r a^{2}{\\left(t \\right)}}$"
      ],
      "text/plain": [
       "<IPython.core.display.Math object>"
      ]
     },
     "metadata": {},
     "output_type": "display_data"
    },
    {
     "data": {
      "text/latex": [
       "$\\displaystyle {torsionequation}{}^{2}\\,{}_{2}\\,{}_{0}\\, = \\frac{\\frac{d}{d t} a{\\left(t \\right)}}{a{\\left(t \\right)}}$"
      ],
      "text/plain": [
       "<IPython.core.display.Math object>"
      ]
     },
     "metadata": {},
     "output_type": "display_data"
    },
    {
     "data": {
      "text/latex": [
       "$\\displaystyle {torsionequation}{}^{3}\\,{}_{0}\\,{}_{1}\\, = \\frac{\\sin{\\left(\\phi \\right)} \\frac{d}{d t} a{\\left(t \\right)}}{r a^{2}{\\left(t \\right)} \\sin{\\left(\\theta \\right)}}$"
      ],
      "text/plain": [
       "<IPython.core.display.Math object>"
      ]
     },
     "metadata": {},
     "output_type": "display_data"
    },
    {
     "data": {
      "text/latex": [
       "$\\displaystyle {torsionequation}{}^{3}\\,{}_{0}\\,{}_{2}\\, = - \\frac{\\cos{\\left(\\phi \\right)} \\frac{d}{d t} a{\\left(t \\right)}}{r a^{2}{\\left(t \\right)} \\sin{\\left(\\theta \\right)}}$"
      ],
      "text/plain": [
       "<IPython.core.display.Math object>"
      ]
     },
     "metadata": {},
     "output_type": "display_data"
    },
    {
     "data": {
      "text/latex": [
       "$\\displaystyle {torsionequation}{}^{3}\\,{}_{3}\\,{}_{0}\\, = \\frac{\\frac{d}{d t} a{\\left(t \\right)}}{a{\\left(t \\right)}}$"
      ],
      "text/plain": [
       "<IPython.core.display.Math object>"
      ]
     },
     "metadata": {},
     "output_type": "display_data"
    },
    {
     "name": "stdout",
     "output_type": "stream",
     "text": [
      "Elements assigned correctly to the _A,^mu,^sigma components\n"
     ]
    },
    {
     "data": {
      "text/latex": [
       "$\\displaystyle {superpotentialequation}{}_{1}\\,{}^{0}\\,{}^{1}\\, = \\frac{1.0 \\sin{\\left(\\theta \\right)} \\cos{\\left(\\phi \\right)} \\frac{d}{d t} a{\\left(t \\right)}}{a^{2}{\\left(t \\right)}}$"
      ],
      "text/plain": [
       "<IPython.core.display.Math object>"
      ]
     },
     "metadata": {},
     "output_type": "display_data"
    },
    {
     "data": {
      "text/latex": [
       "$\\displaystyle {superpotentialequation}{}_{1}\\,{}^{0}\\,{}^{2}\\, = \\frac{1.0 \\cos{\\left(\\phi \\right)} \\cos{\\left(\\theta \\right)} \\frac{d}{d t} a{\\left(t \\right)}}{r a^{2}{\\left(t \\right)}}$"
      ],
      "text/plain": [
       "<IPython.core.display.Math object>"
      ]
     },
     "metadata": {},
     "output_type": "display_data"
    },
    {
     "data": {
      "text/latex": [
       "$\\displaystyle {superpotentialequation}{}_{1}\\,{}^{0}\\,{}^{3}\\, = - \\frac{1.0 \\sin{\\left(\\phi \\right)} \\frac{d}{d t} a{\\left(t \\right)}}{r a^{2}{\\left(t \\right)} \\sin{\\left(\\theta \\right)}}$"
      ],
      "text/plain": [
       "<IPython.core.display.Math object>"
      ]
     },
     "metadata": {},
     "output_type": "display_data"
    },
    {
     "data": {
      "text/latex": [
       "$\\displaystyle {superpotentialequation}{}_{1}\\,{}^{1}\\,{}^{0}\\, = - \\frac{1.0 \\sin{\\left(\\theta \\right)} \\cos{\\left(\\phi \\right)} \\frac{d}{d t} a{\\left(t \\right)}}{a^{2}{\\left(t \\right)}}$"
      ],
      "text/plain": [
       "<IPython.core.display.Math object>"
      ]
     },
     "metadata": {},
     "output_type": "display_data"
    },
    {
     "data": {
      "text/latex": [
       "$\\displaystyle {superpotentialequation}{}_{1}\\,{}^{2}\\,{}^{0}\\, = - \\frac{1.0 \\cos{\\left(\\phi \\right)} \\cos{\\left(\\theta \\right)} \\frac{d}{d t} a{\\left(t \\right)}}{r a^{2}{\\left(t \\right)}}$"
      ],
      "text/plain": [
       "<IPython.core.display.Math object>"
      ]
     },
     "metadata": {},
     "output_type": "display_data"
    },
    {
     "data": {
      "text/latex": [
       "$\\displaystyle {superpotentialequation}{}_{1}\\,{}^{3}\\,{}^{0}\\, = \\frac{1.0 \\sin{\\left(\\phi \\right)} \\frac{d}{d t} a{\\left(t \\right)}}{r a^{2}{\\left(t \\right)} \\sin{\\left(\\theta \\right)}}$"
      ],
      "text/plain": [
       "<IPython.core.display.Math object>"
      ]
     },
     "metadata": {},
     "output_type": "display_data"
    },
    {
     "data": {
      "text/latex": [
       "$\\displaystyle {superpotentialequation}{}_{2}\\,{}^{0}\\,{}^{1}\\, = \\frac{1.0 \\sin{\\left(\\phi \\right)} \\sin{\\left(\\theta \\right)} \\frac{d}{d t} a{\\left(t \\right)}}{a^{2}{\\left(t \\right)}}$"
      ],
      "text/plain": [
       "<IPython.core.display.Math object>"
      ]
     },
     "metadata": {},
     "output_type": "display_data"
    },
    {
     "data": {
      "text/latex": [
       "$\\displaystyle {superpotentialequation}{}_{2}\\,{}^{0}\\,{}^{2}\\, = \\frac{1.0 \\sin{\\left(\\phi \\right)} \\cos{\\left(\\theta \\right)} \\frac{d}{d t} a{\\left(t \\right)}}{r a^{2}{\\left(t \\right)}}$"
      ],
      "text/plain": [
       "<IPython.core.display.Math object>"
      ]
     },
     "metadata": {},
     "output_type": "display_data"
    },
    {
     "data": {
      "text/latex": [
       "$\\displaystyle {superpotentialequation}{}_{2}\\,{}^{0}\\,{}^{3}\\, = \\frac{1.0 \\cos{\\left(\\phi \\right)} \\frac{d}{d t} a{\\left(t \\right)}}{r a^{2}{\\left(t \\right)} \\sin{\\left(\\theta \\right)}}$"
      ],
      "text/plain": [
       "<IPython.core.display.Math object>"
      ]
     },
     "metadata": {},
     "output_type": "display_data"
    },
    {
     "data": {
      "text/latex": [
       "$\\displaystyle {superpotentialequation}{}_{2}\\,{}^{1}\\,{}^{0}\\, = - \\frac{1.0 \\sin{\\left(\\phi \\right)} \\sin{\\left(\\theta \\right)} \\frac{d}{d t} a{\\left(t \\right)}}{a^{2}{\\left(t \\right)}}$"
      ],
      "text/plain": [
       "<IPython.core.display.Math object>"
      ]
     },
     "metadata": {},
     "output_type": "display_data"
    },
    {
     "data": {
      "text/latex": [
       "$\\displaystyle {superpotentialequation}{}_{2}\\,{}^{2}\\,{}^{0}\\, = - \\frac{1.0 \\sin{\\left(\\phi \\right)} \\cos{\\left(\\theta \\right)} \\frac{d}{d t} a{\\left(t \\right)}}{r a^{2}{\\left(t \\right)}}$"
      ],
      "text/plain": [
       "<IPython.core.display.Math object>"
      ]
     },
     "metadata": {},
     "output_type": "display_data"
    },
    {
     "data": {
      "text/latex": [
       "$\\displaystyle {superpotentialequation}{}_{2}\\,{}^{3}\\,{}^{0}\\, = - \\frac{1.0 \\cos{\\left(\\phi \\right)} \\frac{d}{d t} a{\\left(t \\right)}}{r a^{2}{\\left(t \\right)} \\sin{\\left(\\theta \\right)}}$"
      ],
      "text/plain": [
       "<IPython.core.display.Math object>"
      ]
     },
     "metadata": {},
     "output_type": "display_data"
    },
    {
     "data": {
      "text/latex": [
       "$\\displaystyle {superpotentialequation}{}_{3}\\,{}^{0}\\,{}^{1}\\, = \\frac{1.0 \\cos{\\left(\\theta \\right)} \\frac{d}{d t} a{\\left(t \\right)}}{a^{2}{\\left(t \\right)}}$"
      ],
      "text/plain": [
       "<IPython.core.display.Math object>"
      ]
     },
     "metadata": {},
     "output_type": "display_data"
    },
    {
     "data": {
      "text/latex": [
       "$\\displaystyle {superpotentialequation}{}_{3}\\,{}^{0}\\,{}^{2}\\, = - \\frac{1.0 \\sin{\\left(\\theta \\right)} \\frac{d}{d t} a{\\left(t \\right)}}{r a^{2}{\\left(t \\right)}}$"
      ],
      "text/plain": [
       "<IPython.core.display.Math object>"
      ]
     },
     "metadata": {},
     "output_type": "display_data"
    },
    {
     "data": {
      "text/latex": [
       "$\\displaystyle {superpotentialequation}{}_{3}\\,{}^{1}\\,{}^{0}\\, = - \\frac{1.0 \\cos{\\left(\\theta \\right)} \\frac{d}{d t} a{\\left(t \\right)}}{a^{2}{\\left(t \\right)}}$"
      ],
      "text/plain": [
       "<IPython.core.display.Math object>"
      ]
     },
     "metadata": {},
     "output_type": "display_data"
    },
    {
     "data": {
      "text/latex": [
       "$\\displaystyle {superpotentialequation}{}_{3}\\,{}^{2}\\,{}^{0}\\, = \\frac{1.0 \\sin{\\left(\\theta \\right)} \\frac{d}{d t} a{\\left(t \\right)}}{r a^{2}{\\left(t \\right)}}$"
      ],
      "text/plain": [
       "<IPython.core.display.Math object>"
      ]
     },
     "metadata": {},
     "output_type": "display_data"
    }
   ],
   "source": [
    "Thetaecuacion = pt.ten('Thetaecuacion',2)\n",
    "valtheta = Theta(\"_sigma,^mu\")*E(\"^sigma,_A\")\n",
    "Thetaecuacion.assign(valtheta, \"_A,^mu\")\n",
    "Thetaecuacion.simplify()\n",
    "#Thetaecuacion.display('_,^')\n",
    "#print('\\n\\n')\n",
    "\n",
    "\n",
    "\n",
    "torsionequation = pt.ten('torsionequation',3)\n",
    "valtorsion = torsiongreek(\"^sigma,_mu,_nu\")*E(\"^mu,_A\")\n",
    "torsionequation.assign(valtorsion, \"^sigma,_nu,_A\")\n",
    "torsionequation.simplify()\n",
    "torsionequation.display(\"^,_,_\")\n",
    "\n",
    "superpotentialequation = pt.ten('superpotentialequation',3)\n",
    "valsuperpotential = superpotential(\"_nu,^mu,^sigma\")*E(\"^nu,_A\")\n",
    "superpotentialequation.assign(valsuperpotential, \"_A,^mu,^sigma\")\n",
    "superpotentialequation.simplify()\n",
    "superpotentialequation.display(\"_,^,^\")\n",
    "\n"
   ]
  },
  {
   "cell_type": "code",
   "execution_count": 42,
   "id": "a34ef5d2",
   "metadata": {},
   "outputs": [
    {
     "name": "stdout",
     "output_type": "stream",
     "text": [
      "Elements assigned correctly to the _nu,^mu components\n"
     ]
    },
    {
     "data": {
      "application/vnd.jupyter.widget-view+json": {
       "model_id": "94488bb4d198469791cb1703c4986ae9",
       "version_major": 2,
       "version_minor": 0
      },
      "text/plain": [
       "term1 Tensor $term1{_\\alpha}{_\\beta}$:   0%|          | 0/16 [00:00<?, ?it/s]"
      ]
     },
     "metadata": {},
     "output_type": "display_data"
    },
    {
     "data": {
      "application/vnd.jupyter.widget-view+json": {
       "model_id": "c18eeb87e4c84d7e9b68a48b5af98b4a",
       "version_major": 2,
       "version_minor": 0
      },
      "text/plain": [
       "term1 Tensor $term1{^\\alpha}{_\\beta}$:   0%|          | 0/16 [00:00<?, ?it/s]"
      ]
     },
     "metadata": {},
     "output_type": "display_data"
    },
    {
     "data": {
      "application/vnd.jupyter.widget-view+json": {
       "model_id": "d70e336ceb434233ba613f733ea7601a",
       "version_major": 2,
       "version_minor": 0
      },
      "text/plain": [
       "term1 Tensor $term1{^\\alpha}{^\\beta}$:   0%|          | 0/16 [00:00<?, ?it/s]"
      ]
     },
     "metadata": {},
     "output_type": "display_data"
    },
    {
     "data": {
      "text/latex": [
       "All other indices of term1 Tensor $term1$  already calculated."
      ],
      "text/plain": [
       "<IPython.core.display.Latex object>"
      ]
     },
     "metadata": {},
     "output_type": "display_data"
    }
   ],
   "source": [
    "term1 = pt.ten('term1',2)\n",
    "valterm1 = 2*1/dett*e(\"^A,_nu\")*pt.D(dett*superpotentialequation(\"_A,^mu,^sigma\"),'_sigma')\n",
    "term1.assign(valterm1, \"_nu,^mu\")\n",
    "term1.simplify()\n",
    "term1.complete('_,^')"
   ]
  },
  {
   "cell_type": "code",
   "execution_count": 43,
   "id": "6bac8dfe",
   "metadata": {},
   "outputs": [
    {
     "name": "stdout",
     "output_type": "stream",
     "text": [
      "Elements assigned correctly to the _beta,^mu components\n"
     ]
    },
    {
     "data": {
      "application/vnd.jupyter.widget-view+json": {
       "model_id": "b4be6ed1c49c42579b693fa7b8b3c222",
       "version_major": 2,
       "version_minor": 0
      },
      "text/plain": [
       "term2 Tensor $term2{_\\alpha}{_\\beta}$:   0%|          | 0/16 [00:00<?, ?it/s]"
      ]
     },
     "metadata": {},
     "output_type": "display_data"
    },
    {
     "data": {
      "application/vnd.jupyter.widget-view+json": {
       "model_id": "1f3472a15bb841a39041a1aa036fc017",
       "version_major": 2,
       "version_minor": 0
      },
      "text/plain": [
       "term2 Tensor $term2{^\\alpha}{_\\beta}$:   0%|          | 0/16 [00:00<?, ?it/s]"
      ]
     },
     "metadata": {},
     "output_type": "display_data"
    },
    {
     "data": {
      "application/vnd.jupyter.widget-view+json": {
       "model_id": "bbdf431ad2bd46cba097bf30e3d2dd0e",
       "version_major": 2,
       "version_minor": 0
      },
      "text/plain": [
       "term2 Tensor $term2{^\\alpha}{^\\beta}$:   0%|          | 0/16 [00:00<?, ?it/s]"
      ]
     },
     "metadata": {},
     "output_type": "display_data"
    },
    {
     "data": {
      "text/latex": [
       "All other indices of term2 Tensor $term2$  already calculated."
      ],
      "text/plain": [
       "<IPython.core.display.Latex object>"
      ]
     },
     "metadata": {},
     "output_type": "display_data"
    }
   ],
   "source": [
    "term2 = pt.ten('term2',2)\n",
    "valterm2 = 2*torsiongreek(\"^sigma,_nu,_beta\")*superpotential(\"_sigma,^mu,^nu\")\n",
    "term2.assign(valterm2, \"_beta,^mu\")\n",
    "term2.simplify()\n",
    "term2.complete('_,^')"
   ]
  },
  {
   "cell_type": "code",
   "execution_count": 44,
   "id": "c7132073",
   "metadata": {},
   "outputs": [
    {
     "name": "stdout",
     "output_type": "stream",
     "text": [
      "Elements assigned correctly to the ^mu,_nu components\n"
     ]
    },
    {
     "data": {
      "application/vnd.jupyter.widget-view+json": {
       "model_id": "756ecf4317eb488cbf99997cb00c93ca",
       "version_major": 2,
       "version_minor": 0
      },
      "text/plain": [
       "term3 Tensor $term3{_\\alpha}{_\\beta}$:   0%|          | 0/16 [00:00<?, ?it/s]"
      ]
     },
     "metadata": {},
     "output_type": "display_data"
    },
    {
     "data": {
      "application/vnd.jupyter.widget-view+json": {
       "model_id": "1dae17d5c1c245ab807d267fd40c41c4",
       "version_major": 2,
       "version_minor": 0
      },
      "text/plain": [
       "term3 Tensor $term3{^\\alpha}{^\\beta}$:   0%|          | 0/16 [00:00<?, ?it/s]"
      ]
     },
     "metadata": {},
     "output_type": "display_data"
    },
    {
     "data": {
      "application/vnd.jupyter.widget-view+json": {
       "model_id": "7c9aeb23925f4fa88d0928bd4af9143d",
       "version_major": 2,
       "version_minor": 0
      },
      "text/plain": [
       "term3 Tensor $term3{_\\alpha}{^\\beta}$:   0%|          | 0/16 [00:00<?, ?it/s]"
      ]
     },
     "metadata": {},
     "output_type": "display_data"
    },
    {
     "data": {
      "text/latex": [
       "All other indices of term3 Tensor $term3$  already calculated."
      ],
      "text/plain": [
       "<IPython.core.display.Latex object>"
      ]
     },
     "metadata": {},
     "output_type": "display_data"
    }
   ],
   "source": [
    "term3 = pt.ten('term3',2)\n",
    "valterm3 = 1/2*E(\"^mu,_A\")*e('^A,_nu')*torsionscalar\n",
    "term3.assign(valterm3, \"^mu,_nu\")\n",
    "term3.simplify()\n",
    "term3.complete('^,_')"
   ]
  },
  {
   "cell_type": "code",
   "execution_count": 45,
   "id": "5987f617",
   "metadata": {},
   "outputs": [
    {
     "name": "stdout",
     "output_type": "stream",
     "text": [
      "Elements assigned correctly to the _nu,^mu components\n"
     ]
    },
    {
     "data": {
      "application/vnd.jupyter.widget-view+json": {
       "model_id": "d26a246b28d14da2a83994ad0f7015fc",
       "version_major": 2,
       "version_minor": 0
      },
      "text/plain": [
       "Teleparallel Tensor $Teleparallel{_\\alpha}{_\\beta}$:   0%|          | 0/16 [00:00<?, ?it/s]"
      ]
     },
     "metadata": {},
     "output_type": "display_data"
    },
    {
     "data": {
      "application/vnd.jupyter.widget-view+json": {
       "model_id": "f33fa912d88d49a287c91f0494a9e1ed",
       "version_major": 2,
       "version_minor": 0
      },
      "text/plain": [
       "Teleparallel Tensor $Teleparallel{^\\alpha}{_\\beta}$:   0%|          | 0/16 [00:00<?, ?it/s]"
      ]
     },
     "metadata": {},
     "output_type": "display_data"
    },
    {
     "data": {
      "application/vnd.jupyter.widget-view+json": {
       "model_id": "ef1c29b064134352af427514c8a5ad26",
       "version_major": 2,
       "version_minor": 0
      },
      "text/plain": [
       "Teleparallel Tensor $Teleparallel{^\\alpha}{^\\beta}$:   0%|          | 0/16 [00:00<?, ?it/s]"
      ]
     },
     "metadata": {},
     "output_type": "display_data"
    },
    {
     "data": {
      "text/latex": [
       "All other indices of Teleparallel Tensor $Teleparallel$  already calculated."
      ],
      "text/plain": [
       "<IPython.core.display.Latex object>"
      ]
     },
     "metadata": {},
     "output_type": "display_data"
    },
    {
     "data": {
      "text/latex": [
       "$\\displaystyle {Teleparallel}{}_{0}\\,{}^{0}\\, = K^{2} \\rho{\\left(t \\right)} - \\frac{3.0 \\left(\\frac{d}{d t} a{\\left(t \\right)}\\right)^{2}}{a^{2}{\\left(t \\right)}}$"
      ],
      "text/plain": [
       "<IPython.core.display.Math object>"
      ]
     },
     "metadata": {},
     "output_type": "display_data"
    },
    {
     "data": {
      "text/latex": [
       "$\\displaystyle {Teleparallel}{}_{1}\\,{}^{1}\\, = - K^{2} P{\\left(t \\right)} - \\frac{2.0 \\frac{d^{2}}{d t^{2}} a{\\left(t \\right)}}{a{\\left(t \\right)}} - \\frac{1.0 \\left(\\frac{d}{d t} a{\\left(t \\right)}\\right)^{2}}{a^{2}{\\left(t \\right)}}$"
      ],
      "text/plain": [
       "<IPython.core.display.Math object>"
      ]
     },
     "metadata": {},
     "output_type": "display_data"
    },
    {
     "data": {
      "text/latex": [
       "$\\displaystyle {Teleparallel}{}_{2}\\,{}^{2}\\, = - K^{2} P{\\left(t \\right)} - \\frac{2.0 \\frac{d^{2}}{d t^{2}} a{\\left(t \\right)}}{a{\\left(t \\right)}} - \\frac{1.0 \\left(\\frac{d}{d t} a{\\left(t \\right)}\\right)^{2}}{a^{2}{\\left(t \\right)}}$"
      ],
      "text/plain": [
       "<IPython.core.display.Math object>"
      ]
     },
     "metadata": {},
     "output_type": "display_data"
    },
    {
     "data": {
      "text/latex": [
       "$\\displaystyle {Teleparallel}{}_{3}\\,{}^{3}\\, = - K^{2} P{\\left(t \\right)} - \\frac{2.0 \\frac{d^{2}}{d t^{2}} a{\\left(t \\right)}}{a{\\left(t \\right)}} - \\frac{1.0 \\left(\\frac{d}{d t} a{\\left(t \\right)}\\right)^{2}}{a^{2}{\\left(t \\right)}}$"
      ],
      "text/plain": [
       "<IPython.core.display.Math object>"
      ]
     },
     "metadata": {},
     "output_type": "display_data"
    }
   ],
   "source": [
    "Teleparallel = pt.ten('Teleparallel',2)\n",
    "valtel = term1(\"_nu,^mu\")+term2(\"_nu,^mu\")+term3(\"_nu,^mu\")-K**2*Theta(\"_nu,^mu\")\n",
    "Teleparallel.assign(valtel, \"_nu,^mu\")\n",
    "Teleparallel.simplify()\n",
    "Teleparallel.complete('_,^')\n",
    "Teleparallel.display('_,^', aslist=True)"
   ]
  },
  {
   "cell_type": "code",
   "execution_count": null,
   "id": "5e4c18b9",
   "metadata": {},
   "outputs": [],
   "source": []
  }
 ],
 "metadata": {
  "kernelspec": {
   "display_name": "Python 3 (ipykernel)",
   "language": "python",
   "name": "python3"
  },
  "language_info": {
   "codemirror_mode": {
    "name": "ipython",
    "version": 3
   },
   "file_extension": ".py",
   "mimetype": "text/x-python",
   "name": "python",
   "nbconvert_exporter": "python",
   "pygments_lexer": "ipython3",
   "version": "3.8.16"
  },
  "vscode": {
   "interpreter": {
    "hash": "47e86e659cc4c7e7c8281f4dfa198d26eba569ed7d4f5779d5419dff2bd0d92c"
   }
  }
 },
 "nbformat": 4,
 "nbformat_minor": 5
}
