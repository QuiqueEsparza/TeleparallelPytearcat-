{
 "cells": [
  {
   "cell_type": "code",
   "execution_count": 1,
   "id": "6b875463",
   "metadata": {},
   "outputs": [],
   "source": [
    "import pytearcat as pt\n",
    "import sympy as sp\n",
    "import numpy as np\n",
    "from sympy import *\n",
    "init_printing(use_unicode=True)"
   ]
  },
  {
   "cell_type": "code",
   "execution_count": 2,
   "id": "3b62fa64",
   "metadata": {},
   "outputs": [
    {
     "name": "stdout",
     "output_type": "stream",
     "text": [
      "Remember that the time coordinate must be the first coordinate.\n"
     ]
    }
   ],
   "source": [
    "t,r,theta,phi=pt.coords('t,r,theta,phi')"
   ]
  },
  {
   "cell_type": "code",
   "execution_count": 3,
   "id": "ff0d288c",
   "metadata": {},
   "outputs": [],
   "source": [
    "a=pt.fun('a','t')\n",
    "K=pt.con('K')\n",
    "M = pt.con('M')\n",
    "C1=pt.con('C1')\n",
    "C2=pt.con('C2')\n",
    "C3=pt.con('C3')\n",
    "C4=pt.con('C4')\n",
    "C5=pt.con('C5')\n",
    "C6=pt.con('C6')\n",
    "KD = pt.kdelta()"
   ]
  },
  {
   "cell_type": "code",
   "execution_count": 4,
   "id": "135fc2f0",
   "metadata": {},
   "outputs": [],
   "source": [
    "#ds='ds2=(-C1**2+C3**2)*dt**2+2*(-C1*C2+C3*C4)*dt*dr+(-C2**2+C4**2)*dr**2+(C5**2+C6**2)*dtheta**2+sin(theta)**2*(C5**2+C6**2)*dphi**2'"
   ]
  },
  {
   "cell_type": "code",
   "execution_count": 5,
   "id": "80f473ce",
   "metadata": {},
   "outputs": [],
   "source": [
    "ds='ds2=-(1-2*M/r)*dt**2+(1/(1-2*M/r))*dr**2+(r**2)*dtheta**2+(r**2*sin(theta)**2)*dphi**2'"
   ]
  },
  {
   "cell_type": "code",
   "execution_count": 6,
   "id": "7416a76d",
   "metadata": {},
   "outputs": [
    {
     "name": "stdout",
     "output_type": "stream",
     "text": [
      "\n",
      "Dimension = 4\n",
      "Coordinates = t,r,theta,phi\n",
      "Metric defined successfully: \n",
      "\n"
     ]
    },
    {
     "data": {
      "text/latex": [
       "$\\displaystyle ds^2 = \\left(\\frac{2 M}{r} - 1\\right) \\cdot dt^2+\\frac{1}{- \\frac{2 M}{r} + 1} \\cdot dr^2+r^{2} \\cdot d\\theta^2+r^{2} \\sin^{2}{\\left(\\theta \\right)} \\cdot d\\phi^2$"
      ],
      "text/plain": [
       "<IPython.core.display.Math object>"
      ]
     },
     "metadata": {},
     "output_type": "display_data"
    },
    {
     "data": {
      "text/latex": [
       "$\\displaystyle \\left[\\begin{matrix}\\frac{2 M}{r} - 1 & 0 & 0 & 0\\\\0 & \\frac{1}{- \\frac{2 M}{r} + 1} & 0 & 0\\\\0 & 0 & r^{2} & 0\\\\0 & 0 & 0 & r^{2} \\sin^{2}{\\left(\\theta \\right)}\\end{matrix}\\right]$"
      ],
      "text/plain": [
       "⎡2⋅M                               ⎤\n",
       "⎢─── - 1      0      0       0     ⎥\n",
       "⎢ r                                ⎥\n",
       "⎢                                  ⎥\n",
       "⎢             1                    ⎥\n",
       "⎢   0     ─────────  0       0     ⎥\n",
       "⎢           2⋅M                    ⎥\n",
       "⎢         - ─── + 1                ⎥\n",
       "⎢            r                     ⎥\n",
       "⎢                                  ⎥\n",
       "⎢                     2            ⎥\n",
       "⎢   0         0      r       0     ⎥\n",
       "⎢                                  ⎥\n",
       "⎢                         2    2   ⎥\n",
       "⎣   0         0      0   r ⋅sin (θ)⎦"
      ]
     },
     "metadata": {},
     "output_type": "display_data"
    }
   ],
   "source": [
    "g=pt.metric(ds)"
   ]
  },
  {
   "cell_type": "code",
   "execution_count": 7,
   "id": "55d13d9c",
   "metadata": {},
   "outputs": [],
   "source": [
    "#Condición de Métrica Diagonal\n",
    "C2 = 0\n",
    "C3 = 0\n",
    "C6 = 0"
   ]
  },
  {
   "cell_type": "code",
   "execution_count": 8,
   "id": "be258d9b",
   "metadata": {},
   "outputs": [
    {
     "name": "stdout",
     "output_type": "stream",
     "text": [
      "sqrt(-2*M/r + 1)\n",
      "sqrt(1/(-2*M/r + 1))\n",
      "r\n"
     ]
    }
   ],
   "source": [
    "#Condición de Métrica Diagonal\n",
    "C2 = 0\n",
    "C3 = 0\n",
    "C6 = 0\n",
    "C1 = sp.sqrt(-1*g.tensor[0][0][0])\n",
    "C4 = sp.sqrt(g.tensor[0][1][1])\n",
    "#C5 = sp.sqrt(g.tensor[0][2][2])\n",
    "C5 = r\n",
    "print(C1)\n",
    "print(C4)\n",
    "print(C5)"
   ]
  },
  {
   "cell_type": "code",
   "execution_count": 9,
   "id": "cfeb0bb7",
   "metadata": {},
   "outputs": [
    {
     "name": "stdout",
     "output_type": "stream",
     "text": [
      "Elements assigned correctly to the ^A,_mu components\n"
     ]
    },
    {
     "data": {
      "text/latex": [
       "$\\displaystyle \\left[\\begin{matrix}\\sqrt{- \\frac{2 M}{r} + 1} & 0 & 0 & 0\\\\0 & \\sqrt{\\frac{1}{- \\frac{2 M}{r} + 1}} \\sin{\\left(\\theta \\right)} \\cos{\\left(\\phi \\right)} & r \\cos{\\left(\\phi \\right)} \\cos{\\left(\\theta \\right)} & - r \\sin{\\left(\\phi \\right)} \\sin{\\left(\\theta \\right)}\\\\0 & \\sqrt{\\frac{1}{- \\frac{2 M}{r} + 1}} \\sin{\\left(\\phi \\right)} \\sin{\\left(\\theta \\right)} & r \\sin{\\left(\\phi \\right)} \\cos{\\left(\\theta \\right)} & r \\sin{\\left(\\theta \\right)} \\cos{\\left(\\phi \\right)}\\\\0 & \\sqrt{\\frac{1}{- \\frac{2 M}{r} + 1}} \\cos{\\left(\\theta \\right)} & - r \\sin{\\left(\\theta \\right)} & 0\\end{matrix}\\right]$"
      ],
      "text/plain": [
       "⎡    ___________                                                              \n",
       "⎢   ╱   2⋅M                                                                   \n",
       "⎢  ╱  - ─── + 1                  0                        0                0  \n",
       "⎢╲╱      r                                                                    \n",
       "⎢                                                                             \n",
       "⎢                       ___________                                           \n",
       "⎢                      ╱     1                                                \n",
       "⎢       0             ╱  ───────── ⋅sin(θ)⋅cos(φ)  r⋅cos(φ)⋅cos(θ)  -r⋅sin(φ)⋅\n",
       "⎢                    ╱     2⋅M                                                \n",
       "⎢                   ╱    - ─── + 1                                            \n",
       "⎢                 ╲╱        r                                                 \n",
       "⎢                                                                             \n",
       "⎢                       ___________                                           \n",
       "⎢                      ╱     1                                                \n",
       "⎢       0             ╱  ───────── ⋅sin(φ)⋅sin(θ)  r⋅sin(φ)⋅cos(θ)  r⋅sin(θ)⋅c\n",
       "⎢                    ╱     2⋅M                                                \n",
       "⎢                   ╱    - ─── + 1                                            \n",
       "⎢                 ╲╱        r                                                 \n",
       "⎢                                                                             \n",
       "⎢                          ___________                                        \n",
       "⎢                         ╱     1                                             \n",
       "⎢       0                ╱  ───────── ⋅cos(θ)         -r⋅sin(θ)            0  \n",
       "⎢                       ╱     2⋅M                                             \n",
       "⎢                      ╱    - ─── + 1                                         \n",
       "⎣                    ╲╱        r                                              \n",
       "\n",
       "      ⎤\n",
       "      ⎥\n",
       "      ⎥\n",
       "      ⎥\n",
       "      ⎥\n",
       "      ⎥\n",
       "      ⎥\n",
       "sin(θ)⎥\n",
       "      ⎥\n",
       "      ⎥\n",
       "      ⎥\n",
       "      ⎥\n",
       "      ⎥\n",
       "      ⎥\n",
       "os(φ) ⎥\n",
       "      ⎥\n",
       "      ⎥\n",
       "      ⎥\n",
       "      ⎥\n",
       "      ⎥\n",
       "      ⎥\n",
       "      ⎥\n",
       "      ⎥\n",
       "      ⎥\n",
       "      ⎦"
      ]
     },
     "metadata": {},
     "output_type": "display_data"
    }
   ],
   "source": [
    "e=pt.ten('e',2)\n",
    "e.assign([[C1,C2,0,0],[C3*sp.sin(theta)*sp.cos(phi),C4*sp.sin(theta)*sp.cos(phi),C5*sp.cos(theta)*sp.cos(phi)-C6*sp.sin(phi),-sp.sin(theta)*(C5*sp.sin(phi)+C6*sp.cos(theta)*sp.cos(phi))],\n",
    "        [C3*sp.sin(theta)*sp.sin(phi),C4*sp.sin(theta)*sp.sin(phi),C5*sp.cos(theta)*sp.sin(phi)+C6*sp.cos(phi),sp.sin(theta)*(C5*sp.cos(phi)-C6*sp.cos(theta)*sp.sin(phi))],\n",
    "        [C3*sp.cos(theta),C4*sp.cos(theta),-C5*sp.sin(theta),C6*sp.sin(theta)**2]],'^A,_mu')\n",
    "\n",
    "e.display('^,_')"
   ]
  },
  {
   "cell_type": "code",
   "execution_count": 10,
   "id": "e5e793bc",
   "metadata": {},
   "outputs": [
    {
     "name": "stdout",
     "output_type": "stream",
     "text": [
      "Elements assigned correctly to the ^mu,_A components\n"
     ]
    },
    {
     "data": {
      "text/latex": [
       "$\\displaystyle \\left[\\begin{matrix}\\frac{1}{\\sqrt{\\frac{- 2 M + r}{r}}} & 0 & 0 & 0\\\\0 & \\frac{\\sin{\\left(\\theta \\right)} \\cos{\\left(\\phi \\right)}}{\\sqrt{- \\frac{r}{2 M - r}}} & \\frac{\\sin{\\left(\\phi \\right)} \\sin{\\left(\\theta \\right)}}{\\sqrt{- \\frac{r}{2 M - r}}} & \\frac{\\cos{\\left(\\theta \\right)}}{\\sqrt{- \\frac{r}{2 M - r}}}\\\\0 & \\frac{\\cos{\\left(\\phi \\right)} \\cos{\\left(\\theta \\right)}}{r} & \\frac{\\sin{\\left(\\phi \\right)} \\cos{\\left(\\theta \\right)}}{r} & - \\frac{\\sin{\\left(\\theta \\right)}}{r}\\\\0 & - \\frac{\\sin{\\left(\\phi \\right)}}{r \\sin{\\left(\\theta \\right)}} & \\frac{\\cos{\\left(\\phi \\right)}}{r \\sin{\\left(\\theta \\right)}} & 0\\end{matrix}\\right]$"
      ],
      "text/plain": [
       "⎡      1                                                    ⎤\n",
       "⎢──────────────        0              0              0      ⎥\n",
       "⎢    __________                                             ⎥\n",
       "⎢   ╱ -2⋅M + r                                              ⎥\n",
       "⎢  ╱  ────────                                              ⎥\n",
       "⎢╲╱      r                                                  ⎥\n",
       "⎢                                                           ⎥\n",
       "⎢                sin(θ)⋅cos(φ)  sin(φ)⋅sin(θ)      cos(θ)   ⎥\n",
       "⎢      0         ─────────────  ─────────────  ─────────────⎥\n",
       "⎢                    _________      _________      _________⎥\n",
       "⎢                   ╱   -r         ╱   -r         ╱   -r    ⎥\n",
       "⎢                  ╱  ───────     ╱  ───────     ╱  ─────── ⎥\n",
       "⎢                ╲╱   2⋅M - r   ╲╱   2⋅M - r   ╲╱   2⋅M - r ⎥\n",
       "⎢                                                           ⎥\n",
       "⎢                cos(φ)⋅cos(θ)  sin(φ)⋅cos(θ)    -sin(θ)    ⎥\n",
       "⎢      0         ─────────────  ─────────────    ────────   ⎥\n",
       "⎢                      r              r             r       ⎥\n",
       "⎢                                                           ⎥\n",
       "⎢                  -sin(φ)         cos(φ)                   ⎥\n",
       "⎢      0           ────────       ────────           0      ⎥\n",
       "⎣                  r⋅sin(θ)       r⋅sin(θ)                  ⎦"
      ]
     },
     "metadata": {},
     "output_type": "display_data"
    }
   ],
   "source": [
    "M = Matrix(e.tensor[2])\n",
    "M_inverse = M.inv()\n",
    "M_lol=M_inverse.tolist()\n",
    "E=pt.ten('E',2)\n",
    "E.assign(M_lol,'^mu,_A')\n",
    "E.simplify()\n",
    "E.display('^,_')"
   ]
  },
  {
   "cell_type": "code",
   "execution_count": 11,
   "id": "934f309a",
   "metadata": {},
   "outputs": [],
   "source": [
    "d = Matrix(e.tensor[2])\n",
    "det = d.det()\n",
    "dett = sp.simplify(det)"
   ]
  },
  {
   "cell_type": "code",
   "execution_count": 12,
   "id": "aa460538",
   "metadata": {},
   "outputs": [
    {
     "name": "stdout",
     "output_type": "stream",
     "text": [
      "Elements assigned correctly to the _A,_B components\n"
     ]
    },
    {
     "data": {
      "text/latex": [
       "$\\displaystyle \\left[\\begin{matrix}-1 & 0 & 0 & 0\\\\0 & 1 & 0 & 0\\\\0 & 0 & 1 & 0\\\\0 & 0 & 0 & 1\\end{matrix}\\right]$"
      ],
      "text/plain": [
       "⎡-1  0  0  0⎤\n",
       "⎢           ⎥\n",
       "⎢0   1  0  0⎥\n",
       "⎢           ⎥\n",
       "⎢0   0  1  0⎥\n",
       "⎢           ⎥\n",
       "⎣0   0  0  1⎦"
      ]
     },
     "metadata": {},
     "output_type": "display_data"
    }
   ],
   "source": [
    "eta=pt.ten('eta',2)\n",
    "eta.assign([[-1,0,0,0],[0,1,0,0],[0,0,1,0],[0,0,0,1]],'_A,_B')\n",
    "eta.display('_,_')"
   ]
  },
  {
   "cell_type": "code",
   "execution_count": 13,
   "id": "e57edca6",
   "metadata": {},
   "outputs": [
    {
     "name": "stdout",
     "output_type": "stream",
     "text": [
      "Elements assigned correctly to the ^A,^B components\n"
     ]
    },
    {
     "data": {
      "text/latex": [
       "$\\displaystyle \\left[\\begin{matrix}-1 & 0 & 0 & 0\\\\0 & 1 & 0 & 0\\\\0 & 0 & 1 & 0\\\\0 & 0 & 0 & 1\\end{matrix}\\right]$"
      ],
      "text/plain": [
       "⎡-1  0  0  0⎤\n",
       "⎢           ⎥\n",
       "⎢0   1  0  0⎥\n",
       "⎢           ⎥\n",
       "⎢0   0  1  0⎥\n",
       "⎢           ⎥\n",
       "⎣0   0  0  1⎦"
      ]
     },
     "metadata": {},
     "output_type": "display_data"
    }
   ],
   "source": [
    "M1 = Matrix(eta.tensor[0])\n",
    "M1_inverse = M1.inv()\n",
    "M1_lol=M1_inverse.tolist()\n",
    "etainv=pt.ten('etainv',2)\n",
    "etainv.assign(M1_lol,'^A,^B')\n",
    "etainv.display('^,^')"
   ]
  },
  {
   "cell_type": "code",
   "execution_count": 14,
   "id": "8659132f",
   "metadata": {},
   "outputs": [
    {
     "name": "stdout",
     "output_type": "stream",
     "text": [
      "Elements assigned correctly to the _mu,_nu components\n"
     ]
    },
    {
     "data": {
      "text/latex": [
       "$\\displaystyle \\left[\\begin{matrix}\\frac{2 M - r}{r} & 0 & 0 & 0\\\\0 & \\frac{r}{- 2 M + r} & 0 & 0\\\\0 & 0 & r^{2} & 0\\\\0 & 0 & 0 & r^{2} \\sin^{2}{\\left(\\theta \\right)}\\end{matrix}\\right]$"
      ],
      "text/plain": [
       "⎡2⋅M - r                          ⎤\n",
       "⎢───────     0      0       0     ⎥\n",
       "⎢   r                             ⎥\n",
       "⎢                                 ⎥\n",
       "⎢            r                    ⎥\n",
       "⎢   0     ────────  0       0     ⎥\n",
       "⎢         -2⋅M + r                ⎥\n",
       "⎢                                 ⎥\n",
       "⎢                    2            ⎥\n",
       "⎢   0        0      r       0     ⎥\n",
       "⎢                                 ⎥\n",
       "⎢                        2    2   ⎥\n",
       "⎣   0        0      0   r ⋅sin (θ)⎦"
      ]
     },
     "metadata": {},
     "output_type": "display_data"
    }
   ],
   "source": [
    "ge = pt.ten('ge',2)\n",
    "val1 = eta(\"_A,_B\")*e(\"^A,_mu\")*e(\"^B,_nu\")\n",
    "ge.assign(val1,\"_mu,_nu\")\n",
    "ge.simplify()\n",
    "ge.display('_,_')"
   ]
  },
  {
   "cell_type": "code",
   "execution_count": 15,
   "id": "cdeedbe1",
   "metadata": {},
   "outputs": [
    {
     "name": "stdout",
     "output_type": "stream",
     "text": [
      "Elements assigned correctly to the ^mu,^nu components\n"
     ]
    },
    {
     "data": {
      "text/latex": [
       "$\\displaystyle \\left[\\begin{matrix}\\frac{r}{2 M - r} & 0 & 0 & 0\\\\0 & \\frac{- 2 M + r}{r} & 0 & 0\\\\0 & 0 & \\frac{1}{r^{2}} & 0\\\\0 & 0 & 0 & \\frac{1}{r^{2} \\sin^{2}{\\left(\\theta \\right)}}\\end{matrix}\\right]$"
      ],
      "text/plain": [
       "⎡   r                             ⎤\n",
       "⎢───────     0      0       0     ⎥\n",
       "⎢2⋅M - r                          ⎥\n",
       "⎢                                 ⎥\n",
       "⎢         -2⋅M + r                ⎥\n",
       "⎢   0     ────────  0       0     ⎥\n",
       "⎢            r                    ⎥\n",
       "⎢                                 ⎥\n",
       "⎢                   1             ⎥\n",
       "⎢   0        0      ──      0     ⎥\n",
       "⎢                    2            ⎥\n",
       "⎢                   r             ⎥\n",
       "⎢                                 ⎥\n",
       "⎢                           1     ⎥\n",
       "⎢   0        0      0   ──────────⎥\n",
       "⎢                        2    2   ⎥\n",
       "⎣                       r ⋅sin (θ)⎦"
      ]
     },
     "metadata": {},
     "output_type": "display_data"
    }
   ],
   "source": [
    "geinv = pt.ten('geinv',2)\n",
    "val2 = etainv(\"^A,^B\")*E(\"^mu,_A\")*E(\"^nu,_B\")\n",
    "geinv.assign(val2,\"^mu,^nu\")\n",
    "geinv.simplify()\n",
    "geinv.display('^,^')"
   ]
  },
  {
   "cell_type": "code",
   "execution_count": null,
   "id": "1fa138c1",
   "metadata": {},
   "outputs": [],
   "source": [
    "torsion = pt.ten('torsion',3)\n",
    "val3 = pt.D(e('^A,_nu'),'_mu')-pt.D(e('^A,_mu'),'_nu')\n",
    "torsion.assign(val3, \"^A,_mu,_nu\")\n",
    "torsion.simplify()\n",
    "#torsion.display('^,_,_')"
   ]
  },
  {
   "cell_type": "code",
   "execution_count": null,
   "id": "6e5b12cf",
   "metadata": {
    "scrolled": false
   },
   "outputs": [],
   "source": [
    "torsiongreek = pt.ten('torsiongreek',3)\n",
    "val4 = torsion(\"^A,_mu,_nu\")*E(\"^alpha,_A\")\n",
    "torsiongreek.assign(val4, \"^alpha,_mu,_nu\")\n",
    "torsiongreek.simplify()\n",
    "torsiongreek.complete('^,_,_')\n",
    "#torsiongreek.display('^,^,_')\n",
    "#print(\"\\n\\n\")\n",
    "#torsiongreek.display('^,_,^')\n",
    "#print(\"\\n\\n\")\n",
    "#torsiongreek.display('_,^,^')\n",
    "#print(\"\\n\\n\")\n",
    "#torsiongreek.display('_,^,_')\n",
    "#print(\"\\n\\n\")\n",
    "#torsiongreek.display('^,^,^')\n",
    "#print(\"\\n\\n\")\n",
    "#torsiongreek.display('_,_,_')\n",
    "#print(\"\\n\\n\")\n",
    "#torsiongreek.display('^,_,_')\n",
    "#print(\"\\n\\n\")\n",
    "#torsiongreek.display('_,_,^')"
   ]
  },
  {
   "cell_type": "code",
   "execution_count": null,
   "id": "c3065956",
   "metadata": {
    "scrolled": false
   },
   "outputs": [],
   "source": [
    "#el contorsion greek original era escrito con latinos, este fue hecho totalmente con griegos\n",
    "contorsiongreeknew = pt.ten('contorsiongreeknew',3)\n",
    "val6 = 1/2*(torsiongreek(\"_rho,^nu,_mu\")+torsiongreek(\"_mu,^nu,_rho\")-torsiongreek(\"^nu,_rho,_mu\"))\n",
    "contorsiongreeknew.assign(val6, \"^nu,_rho,_mu\")\n",
    "contorsiongreeknew.simplify()\n",
    "contorsiongreeknew.complete('^,_,_')\n",
    "#contorsiongreeknew.display('^,^,_')\n",
    "#print('\\n\\n')\n",
    "#contorsiongreeknew.display('^,_,^')\n",
    "#print('\\n\\n')\n",
    "#contorsiongreeknew.display('^,^,^')\n",
    "#print('\\n\\n')\n",
    "#contorsiongreeknew.display('_,_,_')\n",
    "#print('\\n\\n')\n",
    "#contorsiongreeknew.display('_,_,^')\n",
    "#print('\\n\\n')\n",
    "#contorsiongreeknew.display('_,^,^')\n",
    "#print('\\n\\n')\n",
    "#contorsiongreeknew.display('_,_,_')\n",
    "#print('\\n\\n')\n",
    "#contorsiongreeknew.display('_,^,_')\n",
    "#print('\\n\\n')\n",
    "#contorsiongreeknew.display('^,_,_')"
   ]
  },
  {
   "cell_type": "code",
   "execution_count": null,
   "id": "4a25437d",
   "metadata": {
    "scrolled": false
   },
   "outputs": [],
   "source": [
    "superpotential = pt.ten('superpotential',3)\n",
    "valchido = 1/2*contorsiongreeknew(\"^mu,^nu,_rho\")-1/2*KD(\"^mu,_rho\")*torsiongreek(\"_sigma,^sigma,^nu\")+1/2*KD(\"^nu,_rho\")*torsiongreek(\"_sigma,^sigma,^mu\")\n",
    "superpotential.assign(valchido, \"_rho,^mu,^nu\")\n",
    "superpotential.simplify()\n",
    "superpotential.complete('_,^,^')\n",
    "#print(\"\\n\\n\")\n",
    "#superpotential.display('_,^,^')\n",
    "#print(\"\\n\\n\")\n",
    "#superpotential.display('^,^,_')\n",
    "#print(\"\\n\\n\")\n",
    "#superpotential.display('^,_,_')\n",
    "#print(\"\\n\\n\")\n",
    "#superpotential.display('_,_,^')\n",
    "#print(\"\\n\\n\")\n",
    "#superpotential.display('^,^,^')\n",
    "#print(\"\\n\\n\")\n",
    "#superpotential.display('^,_,^')\n",
    "#print(\"\\n\\n\")\n",
    "#superpotential.display('_,^,_')\n",
    "#print(\"\\n\\n\")\n",
    "#superpotential.display('_,_,_')"
   ]
  },
  {
   "cell_type": "code",
   "execution_count": null,
   "id": "08b88c93",
   "metadata": {},
   "outputs": [],
   "source": [
    "torsionscalar=sp.simplify(superpotential(\"^mu,^beta,^gamma\")*torsiongreek(\"^alpha,_beta,_gamma\")*ge(\"_alpha,_mu\"))\n",
    "torsionscalar"
   ]
  },
  {
   "cell_type": "code",
   "execution_count": null,
   "id": "80caa0a5",
   "metadata": {},
   "outputs": [],
   "source": [
    "tscal=sp.simplify(superpotential(\"_rho,^sigma,^mu\")*torsiongreek(\"^rho,_sigma,_mu\"))\n",
    "tscal"
   ]
  },
  {
   "cell_type": "code",
   "execution_count": null,
   "id": "4c898e9c",
   "metadata": {},
   "outputs": [],
   "source": [
    "tscalar1=sp.simplify((torsiongreek(\"^mu,_sigma,_alpha\")*g(\"^sigma,^nu\")*g(\"^alpha,^rho\"))*(torsiongreek(\"^beta,_nu,_rho\")*g(\"_beta,_mu\")))\n",
    "tscalar2=sp.simplify((torsiongreek(\"^mu,_sigma,_alpha\")*g(\"^sigma,^nu\")*g(\"^alpha,^rho\"))*(torsiongreek(\"^beta,_nu,_mu\")*g(\"_beta,_rho\")))\n",
    "tscalar3=sp.simplify((torsiongreek(\"^mu,_mu,_rho\"))*(torsiongreek(\"^beta,_sigma,_alpha\")*g(\"_beta,_nu\")*g(\"^sigma,^nu\")*g(\"^alpha,^rho\")))\n",
    "scalarchido = sp.simplify(1/4*tscalar1+1/2*tscalar2-tscalar3)\n",
    "scalarchido"
   ]
  },
  {
   "cell_type": "code",
   "execution_count": null,
   "id": "b3eb80eb",
   "metadata": {},
   "outputs": [],
   "source": [
    "U=pt.ten('U',1)\n",
    "U.assign([1,0,0,0],'^')\n",
    "U.display('^')"
   ]
  },
  {
   "cell_type": "code",
   "execution_count": null,
   "id": "6739f33f",
   "metadata": {},
   "outputs": [],
   "source": [
    "rho = pt.fun('rho','t')\n",
    "P = pt.fun('P','t')\n",
    "Theta = pt.ten('Theta',2)\n",
    "val11 = ((rho+P)*U(\"^mu\")*U(\"^nu\")+P*g(\"^mu,^nu\"))\n",
    "Theta.assign(val11,\"^mu,^nu\")\n",
    "Theta.simplify()\n",
    "Theta.complete('^,^')\n",
    "Theta.display('_,^')\n",
    "#Theta.display('^,_')"
   ]
  },
  {
   "cell_type": "code",
   "execution_count": null,
   "id": "181dc893",
   "metadata": {},
   "outputs": [],
   "source": [
    "dett = sp.simplify(det)\n",
    "dett"
   ]
  },
  {
   "cell_type": "code",
   "execution_count": null,
   "id": "82894d74",
   "metadata": {},
   "outputs": [],
   "source": [
    "Ri=pt.ricci()\n",
    "print('\\n\\n')\n",
    "Ris=pt.riccis()\n",
    "pt.display(Ris)\n",
    "print('\\n\\n')\n",
    "Bterm=sp.simplify(2/dett*pt.D(dett*torsiongreek('^nu,_nu,^mu'),'_mu'))\n",
    "print('Boundery Term:')\n",
    "Bterm"
   ]
  },
  {
   "cell_type": "code",
   "execution_count": null,
   "id": "e5d48ac4",
   "metadata": {},
   "outputs": [],
   "source": [
    "Consistency=sp.simplify(Ris+tscal-Bterm)\n",
    "Consistency"
   ]
  },
  {
   "cell_type": "code",
   "execution_count": null,
   "id": "81c77077",
   "metadata": {},
   "outputs": [],
   "source": [
    "Thetaecuacion = pt.ten('Thetaecuacion',2)\n",
    "valtheta = Theta(\"_sigma,^mu\")*E(\"^sigma,_A\")\n",
    "Thetaecuacion.assign(valtheta, \"_A,^mu\")\n",
    "Thetaecuacion.simplify()\n",
    "#Thetaecuacion.display('_,^')\n",
    "#print('\\n\\n')\n",
    "\n",
    "\n",
    "\n",
    "torsionequation = pt.ten('torsionequation',3)\n",
    "valtorsion = torsiongreek(\"^sigma,_mu,_nu\")*E(\"^mu,_A\")\n",
    "torsionequation.assign(valtorsion, \"^sigma,_nu,_A\")\n",
    "torsionequation.simplify()\n",
    "torsionequation.display(\"^,_,_\")\n",
    "\n",
    "superpotentialequation = pt.ten('superpotentialequation',3)\n",
    "valsuperpotential = superpotential(\"_nu,^mu,^sigma\")*E(\"^nu,_A\")\n",
    "superpotentialequation.assign(valsuperpotential, \"_A,^mu,^sigma\")\n",
    "superpotentialequation.simplify()\n",
    "superpotentialequation.display(\"_,^,^\")\n",
    "\n"
   ]
  },
  {
   "cell_type": "code",
   "execution_count": null,
   "id": "a34ef5d2",
   "metadata": {},
   "outputs": [],
   "source": [
    "term1 = pt.ten('term1',2)\n",
    "valterm1 = 2*1/dett*e(\"^A,_nu\")*pt.D(dett*superpotentialequation(\"_A,^mu,^sigma\"),'_sigma')\n",
    "term1.assign(valterm1, \"_nu,^mu\")\n",
    "term1.simplify()\n",
    "term1.complete('_,^')"
   ]
  },
  {
   "cell_type": "code",
   "execution_count": null,
   "id": "6bac8dfe",
   "metadata": {},
   "outputs": [],
   "source": [
    "term2 = pt.ten('term2',2)\n",
    "valterm2 = 2*torsiongreek(\"^sigma,_nu,_beta\")*superpotential(\"_sigma,^mu,^nu\")\n",
    "term2.assign(valterm2, \"_beta,^mu\")\n",
    "term2.simplify()\n",
    "term2.complete('_,^')"
   ]
  },
  {
   "cell_type": "code",
   "execution_count": null,
   "id": "c7132073",
   "metadata": {},
   "outputs": [],
   "source": [
    "term3 = pt.ten('term3',2)\n",
    "valterm3 = 1/2*E(\"^mu,_A\")*e('^A,_nu')*torsionscalar\n",
    "term3.assign(valterm3, \"^mu,_nu\")\n",
    "term3.simplify()\n",
    "term3.complete('^,_')"
   ]
  },
  {
   "cell_type": "code",
   "execution_count": null,
   "id": "5987f617",
   "metadata": {},
   "outputs": [],
   "source": [
    "Teleparallel = pt.ten('Teleparallel',2)\n",
    "valtel = term1(\"_nu,^mu\")+term2(\"_nu,^mu\")+term3(\"_nu,^mu\")-K**2*Theta(\"_nu,^mu\")\n",
    "Teleparallel.assign(valtel, \"_nu,^mu\")\n",
    "Teleparallel.simplify()\n",
    "Teleparallel.complete('_,^')\n",
    "Teleparallel.display('_,^', aslist=True)"
   ]
  },
  {
   "cell_type": "code",
   "execution_count": null,
   "id": "5e4c18b9",
   "metadata": {},
   "outputs": [],
   "source": []
  }
 ],
 "metadata": {
  "kernelspec": {
   "display_name": "Python 3 (ipykernel)",
   "language": "python",
   "name": "python3"
  },
  "language_info": {
   "codemirror_mode": {
    "name": "ipython",
    "version": 3
   },
   "file_extension": ".py",
   "mimetype": "text/x-python",
   "name": "python",
   "nbconvert_exporter": "python",
   "pygments_lexer": "ipython3",
   "version": "3.8.16"
  },
  "vscode": {
   "interpreter": {
    "hash": "47e86e659cc4c7e7c8281f4dfa198d26eba569ed7d4f5779d5419dff2bd0d92c"
   }
  }
 },
 "nbformat": 4,
 "nbformat_minor": 5
}
